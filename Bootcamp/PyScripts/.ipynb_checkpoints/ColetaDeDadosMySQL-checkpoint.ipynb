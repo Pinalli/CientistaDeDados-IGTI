{
 "cells": [
  {
   "cell_type": "code",
   "execution_count": 2,
   "metadata": {},
   "outputs": [
    {
     "name": "stderr",
     "output_type": "stream",
     "text": [
      "Loading required package: RMariaDB\n",
      "Warning message in library(package, lib.loc = lib.loc, character.only = TRUE, logical.return = TRUE, :\n",
      "\"there is no package called 'RMariaDB'\""
     ]
    }
   ],
   "source": [
    "# importação do pacote\n",
    "# importa pacote RMariaDB se ele ainda não foi carregado\n",
    "\n",
    "if(!\"RMariaDB\" %in% (.packages())){require(RMariaDB)}"
   ]
  },
  {
   "cell_type": "code",
   "execution_count": 5,
   "metadata": {},
   "outputs": [
    {
     "ename": "ERROR",
     "evalue": "Error in dbConnect(MariaDB(), user = \"root\", password = \"000 root 000\", : não foi possível encontrar a função \"dbConnect\"\n",
     "output_type": "error",
     "traceback": [
      "Error in dbConnect(MariaDB(), user = \"root\", password = \"000 root 000\", : não foi possível encontrar a função \"dbConnect\"\nTraceback:\n"
     ]
    }
   ],
   "source": [
    "# Conecta ao SGBD My SQL --> Banco de dados bootcamp\n",
    "con <- dbConnect(MariaDB(), user = \"root\", password = \"000 root 000\",\n",
    "                dbname = \"bootcamp\", host = \"localhost\", serverTimezone='UTC')\n"
   ]
  },
  {
   "cell_type": "code",
   "execution_count": null,
   "metadata": {},
   "outputs": [],
   "source": []
  }
 ],
 "metadata": {
  "kernelspec": {
   "display_name": "R",
   "language": "R",
   "name": "ir"
  },
  "language_info": {
   "codemirror_mode": "r",
   "file_extension": ".r",
   "mimetype": "text/x-r-source",
   "name": "R",
   "pygments_lexer": "r",
   "version": "3.6.1"
  }
 },
 "nbformat": 4,
 "nbformat_minor": 4
}
