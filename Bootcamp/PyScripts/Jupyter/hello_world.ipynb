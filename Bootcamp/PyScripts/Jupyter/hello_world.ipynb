{
 "cells": [
  {
   "cell_type": "code",
   "execution_count": 1,
   "metadata": {},
   "outputs": [
    {
     "name": "stdout",
     "output_type": "stream",
     "text": [
      "Alô Mundo\n"
     ]
    }
   ],
   "source": [
    "print(\"Alô Mundo\")\n"
   ]
  },
  {
   "cell_type": "code",
   "execution_count": 11,
   "metadata": {},
   "outputs": [
    {
     "name": "stdout",
     "output_type": "stream",
     "text": [
      "Alô, Mundo!\n"
     ]
    }
   ],
   "source": [
    "def hello():\n",
    "    \"\"\"Metodo\"\"\"\n",
    "    \"\"\"Imprime na tela e não retorna nada\"\"\"\n",
    "    print (\"Alô, Mundo!\")\n",
    " \n",
    "hello()"
   ]
  },
  {
   "cell_type": "code",
   "execution_count": 12,
   "metadata": {},
   "outputs": [
    {
     "name": "stdout",
     "output_type": "stream",
     "text": [
      "Alô Mundo, o valor de PI é 3.141592653589793\n"
     ]
    }
   ],
   "source": [
    "import math\n",
    "\n",
    "def get_pi():\n",
    "    return math.pi\n",
    "\n",
    "def hello(msg):\n",
    "    mensagem = \"Alô Mundo, o valor de PI é \"+ msg\n",
    "    print(mensagem)\n",
    "    \n",
    "msg = str(get_pi())\n",
    "hello(msg)"
   ]
  },
  {
   "cell_type": "code",
   "execution_count": null,
   "metadata": {},
   "outputs": [],
   "source": []
  }
 ],
 "metadata": {
  "kernelspec": {
   "display_name": "Python 3",
   "language": "python",
   "name": "python3"
  },
  "language_info": {
   "codemirror_mode": {
    "name": "ipython",
    "version": 3
   },
   "file_extension": ".py",
   "mimetype": "text/x-python",
   "name": "python",
   "nbconvert_exporter": "python",
   "pygments_lexer": "ipython3",
   "version": "3.8.3"
  }
 },
 "nbformat": 4,
 "nbformat_minor": 4
}
