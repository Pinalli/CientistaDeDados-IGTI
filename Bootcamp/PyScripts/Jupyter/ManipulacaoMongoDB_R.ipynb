{
 "cells": [
  {
   "cell_type": "markdown",
   "metadata": {},
   "source": [
    "## Coleta de Dados ***MongoDB*** com R"
   ]
  },
  {
   "cell_type": "markdown",
   "metadata": {},
   "source": [
    "## Instalação e importação do pacote *mongolite*"
   ]
  },
  {
   "cell_type": "code",
   "execution_count": 44,
   "metadata": {},
   "outputs": [],
   "source": [
    "#importação da biblioteca\n",
    "require(mongolite)"
   ]
  },
  {
   "cell_type": "code",
   "execution_count": 2,
   "metadata": {},
   "outputs": [
    {
     "name": "stdout",
     "output_type": "stream",
     "text": [
      "package 'mongolite' successfully unpacked and MD5 sums checked\n",
      "\n",
      "The downloaded binary packages are in\n",
      "\tC:\\Users\\Alberto Pinalli\\AppData\\Local\\Temp\\RtmpIrsnFY\\downloaded_packages\n"
     ]
    }
   ],
   "source": [
    "install.packages('mongolite')"
   ]
  },
  {
   "cell_type": "code",
   "execution_count": 57,
   "metadata": {},
   "outputs": [],
   "source": [
    "iris <- mongo(collection = \"iris\", db =\"igti\", url = \"mongodb://localhost\")"
   ]
  },
  {
   "cell_type": "code",
   "execution_count": 58,
   "metadata": {},
   "outputs": [
    {
     "data": {
      "text/html": [
       "150"
      ],
      "text/latex": [
       "150"
      ],
      "text/markdown": [
       "150"
      ],
      "text/plain": [
       "[1] 150"
      ]
     },
     "metadata": {},
     "output_type": "display_data"
    }
   ],
   "source": [
    "iris$count()"
   ]
  },
  {
   "cell_type": "code",
   "execution_count": 60,
   "metadata": {},
   "outputs": [
    {
     "name": "stdout",
     "output_type": "stream",
     "text": [
      "[1] \"Número de colunas:  5\"\n",
      "[1] \"Número de linhas:  150\"\n",
      "[1] \"Tamanho:  5\"\n"
     ]
    }
   ],
   "source": [
    "print(paste('Número de colunas: ',ncol(iris.df)))\n",
    "print(paste('Número de linhas: ',nrow(iris.df)))\n",
    "print(paste('Tamanho: ',length(iris.df)))\n"
   ]
  },
  {
   "cell_type": "code",
   "execution_count": 61,
   "metadata": {},
   "outputs": [
    {
     "data": {
      "text/html": [
       "<table>\n",
       "<thead><tr><th scope=col>Sepal_Length</th><th scope=col>Sepal_Width</th><th scope=col>Petal_Length</th><th scope=col>Petal_Width</th><th scope=col>Species</th></tr></thead>\n",
       "<tbody>\n",
       "\t<tr><td>5.1   </td><td>3.5   </td><td>1.4   </td><td>0.2   </td><td>setosa</td></tr>\n",
       "\t<tr><td>4.9   </td><td>3.0   </td><td>1.4   </td><td>0.2   </td><td>setosa</td></tr>\n",
       "\t<tr><td>4.7   </td><td>3.2   </td><td>1.3   </td><td>0.2   </td><td>setosa</td></tr>\n",
       "\t<tr><td>4.6   </td><td>3.1   </td><td>1.5   </td><td>0.2   </td><td>setosa</td></tr>\n",
       "\t<tr><td>5.0   </td><td>3.6   </td><td>1.4   </td><td>0.2   </td><td>setosa</td></tr>\n",
       "\t<tr><td>5.4   </td><td>3.9   </td><td>1.7   </td><td>0.4   </td><td>setosa</td></tr>\n",
       "</tbody>\n",
       "</table>\n"
      ],
      "text/latex": [
       "\\begin{tabular}{r|lllll}\n",
       " Sepal\\_Length & Sepal\\_Width & Petal\\_Length & Petal\\_Width & Species\\\\\n",
       "\\hline\n",
       "\t 5.1    & 3.5    & 1.4    & 0.2    & setosa\\\\\n",
       "\t 4.9    & 3.0    & 1.4    & 0.2    & setosa\\\\\n",
       "\t 4.7    & 3.2    & 1.3    & 0.2    & setosa\\\\\n",
       "\t 4.6    & 3.1    & 1.5    & 0.2    & setosa\\\\\n",
       "\t 5.0    & 3.6    & 1.4    & 0.2    & setosa\\\\\n",
       "\t 5.4    & 3.9    & 1.7    & 0.4    & setosa\\\\\n",
       "\\end{tabular}\n"
      ],
      "text/markdown": [
       "\n",
       "| Sepal_Length | Sepal_Width | Petal_Length | Petal_Width | Species |\n",
       "|---|---|---|---|---|\n",
       "| 5.1    | 3.5    | 1.4    | 0.2    | setosa |\n",
       "| 4.9    | 3.0    | 1.4    | 0.2    | setosa |\n",
       "| 4.7    | 3.2    | 1.3    | 0.2    | setosa |\n",
       "| 4.6    | 3.1    | 1.5    | 0.2    | setosa |\n",
       "| 5.0    | 3.6    | 1.4    | 0.2    | setosa |\n",
       "| 5.4    | 3.9    | 1.7    | 0.4    | setosa |\n",
       "\n"
      ],
      "text/plain": [
       "  Sepal_Length Sepal_Width Petal_Length Petal_Width Species\n",
       "1 5.1          3.5         1.4          0.2         setosa \n",
       "2 4.9          3.0         1.4          0.2         setosa \n",
       "3 4.7          3.2         1.3          0.2         setosa \n",
       "4 4.6          3.1         1.5          0.2         setosa \n",
       "5 5.0          3.6         1.4          0.2         setosa \n",
       "6 5.4          3.9         1.7          0.4         setosa "
      ]
     },
     "metadata": {},
     "output_type": "display_data"
    }
   ],
   "source": [
    "# Imprimir as 6 primeiras linhas do vetor(data.frame) iris\n",
    "head(iris.df);"
   ]
  },
  {
   "cell_type": "code",
   "execution_count": 62,
   "metadata": {},
   "outputs": [
    {
     "name": "stdout",
     "output_type": "stream",
     "text": [
      "  [1] \"1\"   \"2\"   \"3\"   \"4\"   \"5\"   \"6\"   \"7\"   \"8\"   \"9\"   \"10\"  \"11\"  \"12\" \n",
      " [13] \"13\"  \"14\"  \"15\"  \"16\"  \"17\"  \"18\"  \"19\"  \"20\"  \"21\"  \"22\"  \"23\"  \"24\" \n",
      " [25] \"25\"  \"26\"  \"27\"  \"28\"  \"29\"  \"30\"  \"31\"  \"32\"  \"33\"  \"34\"  \"35\"  \"36\" \n",
      " [37] \"37\"  \"38\"  \"39\"  \"40\"  \"41\"  \"42\"  \"43\"  \"44\"  \"45\"  \"46\"  \"47\"  \"48\" \n",
      " [49] \"49\"  \"50\"  \"51\"  \"52\"  \"53\"  \"54\"  \"55\"  \"56\"  \"57\"  \"58\"  \"59\"  \"60\" \n",
      " [61] \"61\"  \"62\"  \"63\"  \"64\"  \"65\"  \"66\"  \"67\"  \"68\"  \"69\"  \"70\"  \"71\"  \"72\" \n",
      " [73] \"73\"  \"74\"  \"75\"  \"76\"  \"77\"  \"78\"  \"79\"  \"80\"  \"81\"  \"82\"  \"83\"  \"84\" \n",
      " [85] \"85\"  \"86\"  \"87\"  \"88\"  \"89\"  \"90\"  \"91\"  \"92\"  \"93\"  \"94\"  \"95\"  \"96\" \n",
      " [97] \"97\"  \"98\"  \"99\"  \"100\" \"101\" \"102\" \"103\" \"104\" \"105\" \"106\" \"107\" \"108\"\n",
      "[109] \"109\" \"110\" \"111\" \"112\" \"113\" \"114\" \"115\" \"116\" \"117\" \"118\" \"119\" \"120\"\n",
      "[121] \"121\" \"122\" \"123\" \"124\" \"125\" \"126\" \"127\" \"128\" \"129\" \"130\" \"131\" \"132\"\n",
      "[133] \"133\" \"134\" \"135\" \"136\" \"137\" \"138\" \"139\" \"140\" \"141\" \"142\" \"143\" \"144\"\n",
      "[145] \"145\" \"146\" \"147\" \"148\" \"149\" \"150\"\n"
     ]
    }
   ],
   "source": [
    "print(rownames(iris.df))"
   ]
  },
  {
   "cell_type": "code",
   "execution_count": 63,
   "metadata": {},
   "outputs": [
    {
     "name": "stdout",
     "output_type": "stream",
     "text": [
      "[1] \"Sepal_Length\" \"Sepal_Width\"  \"Petal_Length\" \"Petal_Width\"  \"Species\"     \n"
     ]
    }
   ],
   "source": [
    "# imprimir os nomes de colunas da data.frame iris\n",
    "# print(paste)'Nome de linhas:',rownames(iris.df)))\n",
    "print(colnames(iris.df))"
   ]
  },
  {
   "cell_type": "code",
   "execution_count": 65,
   "metadata": {},
   "outputs": [],
   "source": [
    "# grava arquivo CSV\n",
    "write.csv(iris.df,'C:/Users/Alberto Pinalli/Documents/GitHub/CientistaDeDados-IGTI/Bootcamp/arquivos/irisFromMongo.csv',row.names=FALSE)"
   ]
  },
  {
   "cell_type": "code",
   "execution_count": 66,
   "metadata": {
    "scrolled": true
   },
   "outputs": [
    {
     "data": {
      "text/html": [
       "<table>\n",
       "<thead><tr><th scope=col>Sepal_Length</th><th scope=col>Sepal_Width</th><th scope=col>Petal_Length</th><th scope=col>Petal_Width</th><th scope=col>Species</th></tr></thead>\n",
       "<tbody>\n",
       "\t<tr><td>5.1   </td><td>3.5   </td><td>1.4   </td><td>0.2   </td><td>setosa</td></tr>\n",
       "\t<tr><td>4.9   </td><td>3.0   </td><td>1.4   </td><td>0.2   </td><td>setosa</td></tr>\n",
       "\t<tr><td>4.7   </td><td>3.2   </td><td>1.3   </td><td>0.2   </td><td>setosa</td></tr>\n",
       "\t<tr><td>4.6   </td><td>3.1   </td><td>1.5   </td><td>0.2   </td><td>setosa</td></tr>\n",
       "\t<tr><td>5.0   </td><td>3.6   </td><td>1.4   </td><td>0.2   </td><td>setosa</td></tr>\n",
       "\t<tr><td>5.4   </td><td>3.9   </td><td>1.7   </td><td>0.4   </td><td>setosa</td></tr>\n",
       "</tbody>\n",
       "</table>\n"
      ],
      "text/latex": [
       "\\begin{tabular}{r|lllll}\n",
       " Sepal\\_Length & Sepal\\_Width & Petal\\_Length & Petal\\_Width & Species\\\\\n",
       "\\hline\n",
       "\t 5.1    & 3.5    & 1.4    & 0.2    & setosa\\\\\n",
       "\t 4.9    & 3.0    & 1.4    & 0.2    & setosa\\\\\n",
       "\t 4.7    & 3.2    & 1.3    & 0.2    & setosa\\\\\n",
       "\t 4.6    & 3.1    & 1.5    & 0.2    & setosa\\\\\n",
       "\t 5.0    & 3.6    & 1.4    & 0.2    & setosa\\\\\n",
       "\t 5.4    & 3.9    & 1.7    & 0.4    & setosa\\\\\n",
       "\\end{tabular}\n"
      ],
      "text/markdown": [
       "\n",
       "| Sepal_Length | Sepal_Width | Petal_Length | Petal_Width | Species |\n",
       "|---|---|---|---|---|\n",
       "| 5.1    | 3.5    | 1.4    | 0.2    | setosa |\n",
       "| 4.9    | 3.0    | 1.4    | 0.2    | setosa |\n",
       "| 4.7    | 3.2    | 1.3    | 0.2    | setosa |\n",
       "| 4.6    | 3.1    | 1.5    | 0.2    | setosa |\n",
       "| 5.0    | 3.6    | 1.4    | 0.2    | setosa |\n",
       "| 5.4    | 3.9    | 1.7    | 0.4    | setosa |\n",
       "\n"
      ],
      "text/plain": [
       "  Sepal_Length Sepal_Width Petal_Length Petal_Width Species\n",
       "1 5.1          3.5         1.4          0.2         setosa \n",
       "2 4.9          3.0         1.4          0.2         setosa \n",
       "3 4.7          3.2         1.3          0.2         setosa \n",
       "4 4.6          3.1         1.5          0.2         setosa \n",
       "5 5.0          3.6         1.4          0.2         setosa \n",
       "6 5.4          3.9         1.7          0.4         setosa "
      ]
     },
     "metadata": {},
     "output_type": "display_data"
    }
   ],
   "source": [
    "iris.df2 <- iris.df #data.frame identico ao iris.df\n",
    "head(iris.df2)"
   ]
  },
  {
   "cell_type": "code",
   "execution_count": 67,
   "metadata": {},
   "outputs": [
    {
     "name": "stdout",
     "output_type": "stream",
     "text": [
      "[1] \"Colunas do dataframe 2: \"\n",
      "[1] \"\"\n",
      "[1] \"Sepal_Length\" \"Sepal_Width\"  \"Petal_Length\" \"Petal_Width\"  \"Species\"     \n"
     ]
    }
   ],
   "source": [
    "print(\"Colunas do dataframe 2: \")\n",
    "print('')\n",
    "print(colnames(iris.df2))"
   ]
  },
  {
   "cell_type": "code",
   "execution_count": 68,
   "metadata": {},
   "outputs": [
    {
     "name": "stdout",
     "output_type": "stream",
     "text": [
      "[1] \"Colunas do dataframe 2 após seter colunas ID e Especie para NULL: \"\n",
      "[1] \"\"\n",
      "[1] \"Sepal_Length\" \"Sepal_Width\"  \"Petal_Length\" \"Petal_Width\"  \"Species\"     \n"
     ]
    }
   ],
   "source": [
    "# Remover colunas\n",
    "iris.df2$Id <- NULL\n",
    "iris.df2$Especie <- NULL\n",
    "print(\"Colunas do dataframe 2 após seter colunas ID e Especie para NULL: \")\n",
    "print('')\n",
    "print(colnames(iris.df2))"
   ]
  },
  {
   "cell_type": "code",
   "execution_count": 70,
   "metadata": {},
   "outputs": [
    {
     "name": "stdout",
     "output_type": "stream",
     "text": [
      "[1] \"Comprimento_Sepala\" \"Largura_Sepala\"     \"Comprimento_Petala\"\n",
      "[4] \"Largura_Petala\"     \"Species\"           \n"
     ]
    }
   ],
   "source": [
    "# Renomear colunas\n",
    "colnames(iris.df2)[1]<- \"Comprimento_Sepala\"\n",
    "colnames(iris.df2)[2]<- \"Largura_Sepala\"\n",
    "colnames(iris.df2)[3]<- \"Comprimento_Petala\"\n",
    "colnames(iris.df2)[4]<- \"Largura_Petala\"\n",
    "print(colnames(iris.df2))\n"
   ]
  },
  {
   "cell_type": "code",
   "execution_count": 71,
   "metadata": {},
   "outputs": [
    {
     "data": {
      "text/plain": [
       " Comprimento_Sepala Largura_Sepala  Comprimento_Petala Largura_Petala \n",
       " Min.   :4.300      Min.   :2.000   Min.   :1.000      Min.   :0.100  \n",
       " 1st Qu.:5.100      1st Qu.:2.800   1st Qu.:1.600      1st Qu.:0.300  \n",
       " Median :5.800      Median :3.000   Median :4.350      Median :1.300  \n",
       " Mean   :5.843      Mean   :3.057   Mean   :3.758      Mean   :1.199  \n",
       " 3rd Qu.:6.400      3rd Qu.:3.300   3rd Qu.:5.100      3rd Qu.:1.800  \n",
       " Max.   :7.900      Max.   :4.400   Max.   :6.900      Max.   :2.500  \n",
       "   Species         \n",
       " Length:150        \n",
       " Class :character  \n",
       " Mode  :character  \n",
       "                   \n",
       "                   \n",
       "                   "
      ]
     },
     "metadata": {},
     "output_type": "display_data"
    }
   ],
   "source": [
    "# Resumo das estatisticas descritivas\n",
    "summary(iris.df2)"
   ]
  },
  {
   "cell_type": "code",
   "execution_count": 84,
   "metadata": {},
   "outputs": [
    {
     "ename": "ERROR",
     "evalue": "Error in x[floor(d)] + x[ceiling(d)]: argumento não-numérico para operador binário\n",
     "output_type": "error",
     "traceback": [
      "Error in x[floor(d)] + x[ceiling(d)]: argumento não-numérico para operador binário\nTraceback:\n",
      "1. boxplot(iris.df2, col = 2, ylab = \"Valores(cm)\", xlab = \"Caracteristica\")",
      "2. boxplot.default(iris.df2, col = 2, ylab = \"Valores(cm)\", xlab = \"Caracteristica\")",
      "3. boxplot.stats(unclass(groups[[i]]), range)",
      "4. stats::fivenum(x, na.rm = TRUE)"
     ]
    }
   ],
   "source": [
    "# Boxplot mostrando a mediana (Linha horizontal, quartis 25 % e 75 % (caixa verde - col = 3) e obs máx e min\n",
    "# (Linhas vericais) - yLab e xLab são as etiquetas dos eixos y e x respectivamente\n",
    "# parametro col=3 indica cor das barras para verde\n",
    "\n",
    "boxplot(iris.df2, col=2,  ylab=\"Valores(cm)\", xlab=\"Caracteristica\")"
   ]
  },
  {
   "cell_type": "code",
   "execution_count": 81,
   "metadata": {},
   "outputs": [
    {
     "data": {
      "image/png": "[encoded data removed]",
      "text/plain": [
       "plot without title"
      ]
     },
     "metadata": {},
     "output_type": "display_data"
    }
   ],
   "source": [
    "barplot(iris.df2$Comprimento_Sepala,ylab=\"Valores em cm\", xlab=\"Valores crus\",\n",
    "           names=as.character(iris.df2$Comprimento_Sepala), cex.names=0.7, ylim=c(0,10),col=4);"
   ]
  },
  {
   "cell_type": "code",
   "execution_count": 86,
   "metadata": {},
   "outputs": [
    {
     "data": {
      "image/png": "[encoded data removed]",
      "text/plain": [
       "Plot with title \"Histograma de amostra A\""
      ]
     },
     "metadata": {},
     "output_type": "display_data"
    }
   ],
   "source": [
    "# histograma de frequencias das observações (mais informativo sobre a\n",
    "# distribuição das observações do que o grafico anterior)\n",
    "hist(iris.df2$Comprimento_Sepala, col=2, main=\"Histograma de amostra A\", xlab=\"Classe de massa(g)\", ylab=\"Frequencia\");"
   ]
  },
  {
   "cell_type": "markdown",
   "metadata": {},
   "source": [
    "# Importar e exportar dados do MongoDB/para arquivos"
   ]
  },
  {
   "cell_type": "markdown",
   "metadata": {},
   "source": [
    "### Exportar dados de uma coleção para um arquivo Json"
   ]
  },
  {
   "cell_type": "code",
   "execution_count": 87,
   "metadata": {},
   "outputs": [
    {
     "name": "stdout",
     "output_type": "stream",
     "text": [
      "{ \"_id\" : { \"$oid\" : \"5f285486575e0000820047a2\" }, \"Sepal_Length\" : 5.0999999999999996447, \"Sepal_Width\" : 3.5, \"Petal_Length\" : 1.3999999999999999112, \"Petal_Width\" : 0.2000000000000000111, \"Species\" : \"setosa\" }\n",
      "{ \"_id\" : { \"$oid\" : \"5f285486575e0000820047a3\" }, \"Sepal_Length\" : 4.9000000000000003553, \"Sepal_Width\" : 3.0, \"Petal_Length\" : 1.3999999999999999112, \"Petal_Width\" : 0.2000000000000000111, \"Species\" : \"setosa\" }\n",
      "{ \"_id\" : { \"$oid\" : \"5f285486575e0000820047a4\" }, \"Sepal_Length\" : 4.7000000000000001776, \"Sepal_Width\" : 3.2000000000000001776, \"Petal_Length\" : 1.3000000000000000444, \"Petal_Width\" : 0.2000000000000000111, \"Species\" : \"setosa\" }\n",
      "{ \"_id\" : { \"$oid\" : \"5f285486575e0000820047a5\" }, \"Sepal_Length\" : 4.5999999999999996447, \"Sepal_Width\" : 3.1000000000000000888, \"Petal_Length\" : 1.5, \"Petal_Width\" : 0.2000000000000000111, \"Species\" : \"setosa\" }\n",
      "{ \"_id\" : { \"$oid\" : \"5f285486575e0000820047a6\" }, \"Sepal_Length\" : 5.0, \"Sepal_Width\" : 3.6000000000000000888, \"Petal_Length\" : 1.3999999999999999112, \"Petal_Width\" : 0.2000000000000000111, \"Species\" : \"setosa\" }\n",
      "{ \"_id\" : { \"$oid\" : \"5f285486575e0000820047a7\" }, \"Sepal_Length\" : 5.4000000000000003553, \"Sepal_Width\" : 3.8999999999999999112, \"Petal_Length\" : 1.6999999999999999556, \"Petal_Width\" : 0.4000000000000000222, \"Species\" : \"setosa\" }\n",
      "{ \"_id\" : { \"$oid\" : \"5f285486575e0000820047a8\" }, \"Sepal_Length\" : 4.5999999999999996447, \"Sepal_Width\" : 3.3999999999999999112, \"Petal_Length\" : 1.3999999999999999112, \"Petal_Width\" : 0.2999999999999999889, \"Species\" : \"setosa\" }\n",
      "{ \"_id\" : { \"$oid\" : \"5f285486575e0000820047a9\" }, \"Sepal_Length\" : 5.0, \"Sepal_Width\" : 3.3999999999999999112, \"Petal_Length\" : 1.5, \"Petal_Width\" : 0.2000000000000000111, \"Species\" : \"setosa\" }\n",
      "{ \"_id\" : { \"$oid\" : \"5f285486575e0000820047aa\" }, \"Sepal_Length\" : 4.4000000000000003553, \"Sepal_Width\" : 2.8999999999999999112, \"Petal_Length\" : 1.3999999999999999112, \"Petal_Width\" : 0.2000000000000000111, \"Species\" : \"setosa\" }\n",
      "{ \"_id\" : { \"$oid\" : \"5f285486575e0000820047ab\" }, \"Sepal_Length\" : 4.9000000000000003553, \"Sepal_Width\" : 3.1000000000000000888, \"Petal_Length\" : 1.5, \"Petal_Width\" : 0.10000000000000000555, \"Species\" : \"setosa\" }\n",
      "{ \"_id\" : { \"$oid\" : \"5f285486575e0000820047ac\" }, \"Sepal_Length\" : 5.4000000000000003553, \"Sepal_Width\" : 3.7000000000000001776, \"Petal_Length\" : 1.5, \"Petal_Width\" : 0.2000000000000000111, \"Species\" : \"setosa\" }\n",
      "{ \"_id\" : { \"$oid\" : \"5f285486575e0000820047ad\" }, \"Sepal_Length\" : 4.7999999999999998224, \"Sepal_Width\" : 3.3999999999999999112, \"Petal_Length\" : 1.6000000000000000888, \"Petal_Width\" : 0.2000000000000000111, \"Species\" : \"setosa\" }\n",
      "{ \"_id\" : { \"$oid\" : \"5f285486575e0000820047ae\" }, \"Sepal_Length\" : 4.7999999999999998224, \"Sepal_Width\" : 3.0, \"Petal_Length\" : 1.3999999999999999112, \"Petal_Width\" : 0.10000000000000000555, \"Species\" : \"setosa\" }\n",
      "{ \"_id\" : { \"$oid\" : \"5f285486575e0000820047af\" }, \"Sepal_Length\" : 4.2999999999999998224, \"Sepal_Width\" : 3.0, \"Petal_Length\" : 1.1000000000000000888, \"Petal_Width\" : 0.10000000000000000555, \"Species\" : \"setosa\" }\n",
      "{ \"_id\" : { \"$oid\" : \"5f285486575e0000820047b0\" }, \"Sepal_Length\" : 5.7999999999999998224, \"Sepal_Width\" : 4.0, \"Petal_Length\" : 1.1999999999999999556, \"Petal_Width\" : 0.2000000000000000111, \"Species\" : \"setosa\" }\n",
      "{ \"_id\" : { \"$oid\" : \"5f285486575e0000820047b1\" }, \"Sepal_Length\" : 5.7000000000000001776, \"Sepal_Width\" : 4.4000000000000003553, \"Petal_Length\" : 1.5, \"Petal_Width\" : 0.4000000000000000222, \"Species\" : \"setosa\" }\n",
      "{ \"_id\" : { \"$oid\" : \"5f285486575e0000820047b2\" }, \"Sepal_Length\" : 5.4000000000000003553, \"Sepal_Width\" : 3.8999999999999999112, \"Petal_Length\" : 1.3000000000000000444, \"Petal_Width\" : 0.4000000000000000222, \"Species\" : \"setosa\" }\n",
      "{ \"_id\" : { \"$oid\" : \"5f285486575e0000820047b3\" }, \"Sepal_Length\" : 5.0999999999999996447, \"Sepal_Width\" : 3.5, \"Petal_Length\" : 1.3999999999999999112, \"Petal_Width\" : 0.2999999999999999889, \"Species\" : \"setosa\" }\n",
      "{ \"_id\" : { \"$oid\" : \"5f285486575e0000820047b4\" }, \"Sepal_Length\" : 5.7000000000000001776, \"Sepal_Width\" : 3.7999999999999998224, \"Petal_Length\" : 1.6999999999999999556, \"Petal_Width\" : 0.2999999999999999889, \"Species\" : \"setosa\" }\n",
      "{ \"_id\" : { \"$oid\" : \"5f285486575e0000820047b5\" }, \"Sepal_Length\" : 5.0999999999999996447, \"Sepal_Width\" : 3.7999999999999998224, \"Petal_Length\" : 1.5, \"Petal_Width\" : 0.2999999999999999889, \"Species\" : \"setosa\" }\n",
      "{ \"_id\" : { \"$oid\" : \"5f285486575e0000820047b6\" }, \"Sepal_Length\" : 5.4000000000000003553, \"Sepal_Width\" : 3.3999999999999999112, \"Petal_Length\" : 1.6999999999999999556, \"Petal_Width\" : 0.2000000000000000111, \"Species\" : \"setosa\" }\n",
      "{ \"_id\" : { \"$oid\" : \"5f285486575e0000820047b7\" }, \"Sepal_Length\" : 5.0999999999999996447, \"Sepal_Width\" : 3.7000000000000001776, \"Petal_Length\" : 1.5, \"Petal_Width\" : 0.4000000000000000222, \"Species\" : \"setosa\" }\n",
      "{ \"_id\" : { \"$oid\" : \"5f285486575e0000820047b8\" }, \"Sepal_Length\" : 4.5999999999999996447, \"Sepal_Width\" : 3.6000000000000000888, \"Petal_Length\" : 1.0, \"Petal_Width\" : 0.2000000000000000111, \"Species\" : \"setosa\" }\n",
      "{ \"_id\" : { \"$oid\" : \"5f285486575e0000820047b9\" }, \"Sepal_Length\" : 5.0999999999999996447, \"Sepal_Width\" : 3.2999999999999998224, \"Petal_Length\" : 1.6999999999999999556, \"Petal_Width\" : 0.5, \"Species\" : \"setosa\" }\n",
      "{ \"_id\" : { \"$oid\" : \"5f285486575e0000820047ba\" }, \"Sepal_Length\" : 4.7999999999999998224, \"Sepal_Width\" : 3.3999999999999999112, \"Petal_Length\" : 1.8999999999999999112, \"Petal_Width\" : 0.2000000000000000111, \"Species\" : \"setosa\" }\n",
      "{ \"_id\" : { \"$oid\" : \"5f285486575e0000820047bb\" }, \"Sepal_Length\" : 5.0, \"Sepal_Width\" : 3.0, \"Petal_Length\" : 1.6000000000000000888, \"Petal_Width\" : 0.2000000000000000111, \"Species\" : \"setosa\" }\n",
      "{ \"_id\" : { \"$oid\" : \"5f285486575e0000820047bc\" }, \"Sepal_Length\" : 5.0, \"Sepal_Width\" : 3.3999999999999999112, \"Petal_Length\" : 1.6000000000000000888, \"Petal_Width\" : 0.4000000000000000222, \"Species\" : \"setosa\" }\n",
      "{ \"_id\" : { \"$oid\" : \"5f285486575e0000820047bd\" }, \"Sepal_Length\" : 5.2000000000000001776, \"Sepal_Width\" : 3.5, \"Petal_Length\" : 1.5, \"Petal_Width\" : 0.2000000000000000111, \"Species\" : \"setosa\" }\n",
      "{ \"_id\" : { \"$oid\" : \"5f285486575e0000820047be\" }, \"Sepal_Length\" : 5.2000000000000001776, \"Sepal_Width\" : 3.3999999999999999112, \"Petal_Length\" : 1.3999999999999999112, \"Petal_Width\" : 0.2000000000000000111, \"Species\" : \"setosa\" }\n",
      "{ \"_id\" : { \"$oid\" : \"5f285486575e0000820047bf\" }, \"Sepal_Length\" : 4.7000000000000001776, \"Sepal_Width\" : 3.2000000000000001776, \"Petal_Length\" : 1.6000000000000000888, \"Petal_Width\" : 0.2000000000000000111, \"Species\" : \"setosa\" }\n",
      "{ \"_id\" : { \"$oid\" : \"5f285486575e0000820047c0\" }, \"Sepal_Length\" : 4.7999999999999998224, \"Sepal_Width\" : 3.1000000000000000888, \"Petal_Length\" : 1.6000000000000000888, \"Petal_Width\" : 0.2000000000000000111, \"Species\" : \"setosa\" }\n",
      "{ \"_id\" : { \"$oid\" : \"5f285486575e0000820047c1\" }, \"Sepal_Length\" : 5.4000000000000003553, \"Sepal_Width\" : 3.3999999999999999112, \"Petal_Length\" : 1.5, \"Petal_Width\" : 0.4000000000000000222, \"Species\" : \"setosa\" }\n",
      "{ \"_id\" : { \"$oid\" : \"5f285486575e0000820047c2\" }, \"Sepal_Length\" : 5.2000000000000001776, \"Sepal_Width\" : 4.0999999999999996447, \"Petal_Length\" : 1.5, \"Petal_Width\" : 0.10000000000000000555, \"Species\" : \"setosa\" }\n",
      "{ \"_id\" : { \"$oid\" : \"5f285486575e0000820047c3\" }, \"Sepal_Length\" : 5.5, \"Sepal_Width\" : 4.2000000000000001776, \"Petal_Length\" : 1.3999999999999999112, \"Petal_Width\" : 0.2000000000000000111, \"Species\" : \"setosa\" }\n",
      "{ \"_id\" : { \"$oid\" : \"5f285486575e0000820047c4\" }, \"Sepal_Length\" : 4.9000000000000003553, \"Sepal_Width\" : 3.1000000000000000888, \"Petal_Length\" : 1.5, \"Petal_Width\" : 0.2000000000000000111, \"Species\" : \"setosa\" }\n",
      "{ \"_id\" : { \"$oid\" : \"5f285486575e0000820047c5\" }, \"Sepal_Length\" : 5.0, \"Sepal_Width\" : 3.2000000000000001776, \"Petal_Length\" : 1.1999999999999999556, \"Petal_Width\" : 0.2000000000000000111, \"Species\" : \"setosa\" }\n",
      "{ \"_id\" : { \"$oid\" : \"5f285486575e0000820047c6\" }, \"Sepal_Length\" : 5.5, \"Sepal_Width\" : 3.5, \"Petal_Length\" : 1.3000000000000000444, \"Petal_Width\" : 0.2000000000000000111, \"Species\" : \"setosa\" }\n",
      "{ \"_id\" : { \"$oid\" : \"5f285486575e0000820047c7\" }, \"Sepal_Length\" : 4.9000000000000003553, \"Sepal_Width\" : 3.6000000000000000888, \"Petal_Length\" : 1.3999999999999999112, \"Petal_Width\" : 0.10000000000000000555, \"Species\" : \"setosa\" }\n",
      "{ \"_id\" : { \"$oid\" : \"5f285486575e0000820047c8\" }, \"Sepal_Length\" : 4.4000000000000003553, \"Sepal_Width\" : 3.0, \"Petal_Length\" : 1.3000000000000000444, \"Petal_Width\" : 0.2000000000000000111, \"Species\" : \"setosa\" }\n",
      "{ \"_id\" : { \"$oid\" : \"5f285486575e0000820047c9\" }, \"Sepal_Length\" : 5.0999999999999996447, \"Sepal_Width\" : 3.3999999999999999112, \"Petal_Length\" : 1.5, \"Petal_Width\" : 0.2000000000000000111, \"Species\" : \"setosa\" }\n",
      "{ \"_id\" : { \"$oid\" : \"5f285486575e0000820047ca\" }, \"Sepal_Length\" : 5.0, \"Sepal_Width\" : 3.5, \"Petal_Length\" : 1.3000000000000000444, \"Petal_Width\" : 0.2999999999999999889, \"Species\" : \"setosa\" }\n",
      "{ \"_id\" : { \"$oid\" : \"5f285486575e0000820047cb\" }, \"Sepal_Length\" : 4.5, \"Sepal_Width\" : 2.2999999999999998224, \"Petal_Length\" : 1.3000000000000000444, \"Petal_Width\" : 0.2999999999999999889, \"Species\" : \"setosa\" }\n",
      "{ \"_id\" : { \"$oid\" : \"5f285486575e0000820047cc\" }, \"Sepal_Length\" : 4.4000000000000003553, \"Sepal_Width\" : 3.2000000000000001776, \"Petal_Length\" : 1.3000000000000000444, \"Petal_Width\" : 0.2000000000000000111, \"Species\" : \"setosa\" }\n",
      "{ \"_id\" : { \"$oid\" : \"5f285486575e0000820047cd\" }, \"Sepal_Length\" : 5.0, \"Sepal_Width\" : 3.5, \"Petal_Length\" : 1.6000000000000000888, \"Petal_Width\" : 0.5999999999999999778, \"Species\" : \"setosa\" }\n",
      "{ \"_id\" : { \"$oid\" : \"5f285486575e0000820047ce\" }, \"Sepal_Length\" : 5.0999999999999996447, \"Sepal_Width\" : 3.7999999999999998224, \"Petal_Length\" : 1.8999999999999999112, \"Petal_Width\" : 0.4000000000000000222, \"Species\" : \"setosa\" }\n",
      "{ \"_id\" : { \"$oid\" : \"5f285486575e0000820047cf\" }, \"Sepal_Length\" : 4.7999999999999998224, \"Sepal_Width\" : 3.0, \"Petal_Length\" : 1.3999999999999999112, \"Petal_Width\" : 0.2999999999999999889, \"Species\" : \"setosa\" }\n",
      "{ \"_id\" : { \"$oid\" : \"5f285486575e0000820047d0\" }, \"Sepal_Length\" : 5.0999999999999996447, \"Sepal_Width\" : 3.7999999999999998224, \"Petal_Length\" : 1.6000000000000000888, \"Petal_Width\" : 0.2000000000000000111, \"Species\" : \"setosa\" }\n",
      "{ \"_id\" : { \"$oid\" : \"5f285486575e0000820047d1\" }, \"Sepal_Length\" : 4.5999999999999996447, \"Sepal_Width\" : 3.2000000000000001776, \"Petal_Length\" : 1.3999999999999999112, \"Petal_Width\" : 0.2000000000000000111, \"Species\" : \"setosa\" }\n",
      "{ \"_id\" : { \"$oid\" : \"5f285486575e0000820047d2\" }, \"Sepal_Length\" : 5.2999999999999998224, \"Sepal_Width\" : 3.7000000000000001776, \"Petal_Length\" : 1.5, \"Petal_Width\" : 0.2000000000000000111, \"Species\" : \"setosa\" }\n",
      "{ \"_id\" : { \"$oid\" : \"5f285486575e0000820047d3\" }, \"Sepal_Length\" : 5.0, \"Sepal_Width\" : 3.2999999999999998224, \"Petal_Length\" : 1.3999999999999999112, \"Petal_Width\" : 0.2000000000000000111, \"Species\" : \"setosa\" }\n",
      "{ \"_id\" : { \"$oid\" : \"5f285486575e0000820047d4\" }, \"Sepal_Length\" : 7.0, \"Sepal_Width\" : 3.2000000000000001776, \"Petal_Length\" : 4.7000000000000001776, \"Petal_Width\" : 1.3999999999999999112, \"Species\" : \"versicolor\" }\n",
      "{ \"_id\" : { \"$oid\" : \"5f285486575e0000820047d5\" }, \"Sepal_Length\" : 6.4000000000000003553, \"Sepal_Width\" : 3.2000000000000001776, \"Petal_Length\" : 4.5, \"Petal_Width\" : 1.5, \"Species\" : \"versicolor\" }\n",
      "{ \"_id\" : { \"$oid\" : \"5f285486575e0000820047d6\" }, \"Sepal_Length\" : 6.9000000000000003553, \"Sepal_Width\" : 3.1000000000000000888, \"Petal_Length\" : 4.9000000000000003553, \"Petal_Width\" : 1.5, \"Species\" : \"versicolor\" }\n",
      "{ \"_id\" : { \"$oid\" : \"5f285486575e0000820047d7\" }, \"Sepal_Length\" : 5.5, \"Sepal_Width\" : 2.2999999999999998224, \"Petal_Length\" : 4.0, \"Petal_Width\" : 1.3000000000000000444, \"Species\" : \"versicolor\" }\n",
      "{ \"_id\" : { \"$oid\" : \"5f285486575e0000820047d8\" }, \"Sepal_Length\" : 6.5, \"Sepal_Width\" : 2.7999999999999998224, \"Petal_Length\" : 4.5999999999999996447, \"Petal_Width\" : 1.5, \"Species\" : \"versicolor\" }\n",
      "{ \"_id\" : { \"$oid\" : \"5f285486575e0000820047d9\" }, \"Sepal_Length\" : 5.7000000000000001776, \"Sepal_Width\" : 2.7999999999999998224, \"Petal_Length\" : 4.5, \"Petal_Width\" : 1.3000000000000000444, \"Species\" : \"versicolor\" }\n",
      "{ \"_id\" : { \"$oid\" : \"5f285486575e0000820047da\" }, \"Sepal_Length\" : 6.2999999999999998224, \"Sepal_Width\" : 3.2999999999999998224, \"Petal_Length\" : 4.7000000000000001776, \"Petal_Width\" : 1.6000000000000000888, \"Species\" : \"versicolor\" }\n",
      "{ \"_id\" : { \"$oid\" : \"5f285486575e0000820047db\" }, \"Sepal_Length\" : 4.9000000000000003553, \"Sepal_Width\" : 2.3999999999999999112, \"Petal_Length\" : 3.2999999999999998224, \"Petal_Width\" : 1.0, \"Species\" : \"versicolor\" }\n",
      "{ \"_id\" : { \"$oid\" : \"5f285486575e0000820047dc\" }, \"Sepal_Length\" : 6.5999999999999996447, \"Sepal_Width\" : 2.8999999999999999112, \"Petal_Length\" : 4.5999999999999996447, \"Petal_Width\" : 1.3000000000000000444, \"Species\" : \"versicolor\" }\n",
      "{ \"_id\" : { \"$oid\" : \"5f285486575e0000820047dd\" }, \"Sepal_Length\" : 5.2000000000000001776, \"Sepal_Width\" : 2.7000000000000001776, \"Petal_Length\" : 3.8999999999999999112, \"Petal_Width\" : 1.3999999999999999112, \"Species\" : \"versicolor\" }\n",
      "{ \"_id\" : { \"$oid\" : \"5f285486575e0000820047de\" }, \"Sepal_Length\" : 5.0, \"Sepal_Width\" : 2.0, \"Petal_Length\" : 3.5, \"Petal_Width\" : 1.0, \"Species\" : \"versicolor\" }\n",
      "{ \"_id\" : { \"$oid\" : \"5f285486575e0000820047df\" }, \"Sepal_Length\" : 5.9000000000000003553, \"Sepal_Width\" : 3.0, \"Petal_Length\" : 4.2000000000000001776, \"Petal_Width\" : 1.5, \"Species\" : \"versicolor\" }\n",
      "{ \"_id\" : { \"$oid\" : \"5f285486575e0000820047e0\" }, \"Sepal_Length\" : 6.0, \"Sepal_Width\" : 2.2000000000000001776, \"Petal_Length\" : 4.0, \"Petal_Width\" : 1.0, \"Species\" : \"versicolor\" }\n",
      "{ \"_id\" : { \"$oid\" : \"5f285486575e0000820047e1\" }, \"Sepal_Length\" : 6.0999999999999996447, \"Sepal_Width\" : 2.8999999999999999112, \"Petal_Length\" : 4.7000000000000001776, \"Petal_Width\" : 1.3999999999999999112, \"Species\" : \"versicolor\" }\n",
      "{ \"_id\" : { \"$oid\" : \"5f285486575e0000820047e2\" }, \"Sepal_Length\" : 5.5999999999999996447, \"Sepal_Width\" : 2.8999999999999999112, \"Petal_Length\" : 3.6000000000000000888, \"Petal_Width\" : 1.3000000000000000444, \"Species\" : \"versicolor\" }\n",
      "{ \"_id\" : { \"$oid\" : \"5f285486575e0000820047e3\" }, \"Sepal_Length\" : 6.7000000000000001776, \"Sepal_Width\" : 3.1000000000000000888, \"Petal_Length\" : 4.4000000000000003553, \"Petal_Width\" : 1.3999999999999999112, \"Species\" : \"versicolor\" }\n",
      "{ \"_id\" : { \"$oid\" : \"5f285486575e0000820047e4\" }, \"Sepal_Length\" : 5.5999999999999996447, \"Sepal_Width\" : 3.0, \"Petal_Length\" : 4.5, \"Petal_Width\" : 1.5, \"Species\" : \"versicolor\" }\n",
      "{ \"_id\" : { \"$oid\" : \"5f285486575e0000820047e5\" }, \"Sepal_Length\" : 5.7999999999999998224, \"Sepal_Width\" : 2.7000000000000001776, \"Petal_Length\" : 4.0999999999999996447, \"Petal_Width\" : 1.0, \"Species\" : \"versicolor\" }\n",
      "{ \"_id\" : { \"$oid\" : \"5f285486575e0000820047e6\" }, \"Sepal_Length\" : 6.2000000000000001776, \"Sepal_Width\" : 2.2000000000000001776, \"Petal_Length\" : 4.5, \"Petal_Width\" : 1.5, \"Species\" : \"versicolor\" }\n",
      "{ \"_id\" : { \"$oid\" : \"5f285486575e0000820047e7\" }, \"Sepal_Length\" : 5.5999999999999996447, \"Sepal_Width\" : 2.5, \"Petal_Length\" : 3.8999999999999999112, \"Petal_Width\" : 1.1000000000000000888, \"Species\" : \"versicolor\" }\n",
      "{ \"_id\" : { \"$oid\" : \"5f285486575e0000820047e8\" }, \"Sepal_Length\" : 5.9000000000000003553, \"Sepal_Width\" : 3.2000000000000001776, \"Petal_Length\" : 4.7999999999999998224, \"Petal_Width\" : 1.8000000000000000444, \"Species\" : \"versicolor\" }\n",
      "{ \"_id\" : { \"$oid\" : \"5f285486575e0000820047e9\" }, \"Sepal_Length\" : 6.0999999999999996447, \"Sepal_Width\" : 2.7999999999999998224, \"Petal_Length\" : 4.0, \"Petal_Width\" : 1.3000000000000000444, \"Species\" : \"versicolor\" }\n",
      "{ \"_id\" : { \"$oid\" : \"5f285486575e0000820047ea\" }, \"Sepal_Length\" : 6.2999999999999998224, \"Sepal_Width\" : 2.5, \"Petal_Length\" : 4.9000000000000003553, \"Petal_Width\" : 1.5, \"Species\" : \"versicolor\" }\n",
      "{ \"_id\" : { \"$oid\" : \"5f285486575e0000820047eb\" }, \"Sepal_Length\" : 6.0999999999999996447, \"Sepal_Width\" : 2.7999999999999998224, \"Petal_Length\" : 4.7000000000000001776, \"Petal_Width\" : 1.1999999999999999556, \"Species\" : \"versicolor\" }\n",
      "{ \"_id\" : { \"$oid\" : \"5f285486575e0000820047ec\" }, \"Sepal_Length\" : 6.4000000000000003553, \"Sepal_Width\" : 2.8999999999999999112, \"Petal_Length\" : 4.2999999999999998224, \"Petal_Width\" : 1.3000000000000000444, \"Species\" : \"versicolor\" }\n",
      "{ \"_id\" : { \"$oid\" : \"5f285486575e0000820047ed\" }, \"Sepal_Length\" : 6.5999999999999996447, \"Sepal_Width\" : 3.0, \"Petal_Length\" : 4.4000000000000003553, \"Petal_Width\" : 1.3999999999999999112, \"Species\" : \"versicolor\" }\n",
      "{ \"_id\" : { \"$oid\" : \"5f285486575e0000820047ee\" }, \"Sepal_Length\" : 6.7999999999999998224, \"Sepal_Width\" : 2.7999999999999998224, \"Petal_Length\" : 4.7999999999999998224, \"Petal_Width\" : 1.3999999999999999112, \"Species\" : \"versicolor\" }\n",
      "{ \"_id\" : { \"$oid\" : \"5f285486575e0000820047ef\" }, \"Sepal_Length\" : 6.7000000000000001776, \"Sepal_Width\" : 3.0, \"Petal_Length\" : 5.0, \"Petal_Width\" : 1.6999999999999999556, \"Species\" : \"versicolor\" }\n",
      "{ \"_id\" : { \"$oid\" : \"5f285486575e0000820047f0\" }, \"Sepal_Length\" : 6.0, \"Sepal_Width\" : 2.8999999999999999112, \"Petal_Length\" : 4.5, \"Petal_Width\" : 1.5, \"Species\" : \"versicolor\" }\n",
      "{ \"_id\" : { \"$oid\" : \"5f285486575e0000820047f1\" }, \"Sepal_Length\" : 5.7000000000000001776, \"Sepal_Width\" : 2.6000000000000000888, \"Petal_Length\" : 3.5, \"Petal_Width\" : 1.0, \"Species\" : \"versicolor\" }\n",
      "{ \"_id\" : { \"$oid\" : \"5f285486575e0000820047f2\" }, \"Sepal_Length\" : 5.5, \"Sepal_Width\" : 2.3999999999999999112, \"Petal_Length\" : 3.7999999999999998224, \"Petal_Width\" : 1.1000000000000000888, \"Species\" : \"versicolor\" }\n",
      "{ \"_id\" : { \"$oid\" : \"5f285486575e0000820047f3\" }, \"Sepal_Length\" : 5.5, \"Sepal_Width\" : 2.3999999999999999112, \"Petal_Length\" : 3.7000000000000001776, \"Petal_Width\" : 1.0, \"Species\" : \"versicolor\" }\n",
      "{ \"_id\" : { \"$oid\" : \"5f285486575e0000820047f4\" }, \"Sepal_Length\" : 5.7999999999999998224, \"Sepal_Width\" : 2.7000000000000001776, \"Petal_Length\" : 3.8999999999999999112, \"Petal_Width\" : 1.1999999999999999556, \"Species\" : \"versicolor\" }\n",
      "{ \"_id\" : { \"$oid\" : \"5f285486575e0000820047f5\" }, \"Sepal_Length\" : 6.0, \"Sepal_Width\" : 2.7000000000000001776, \"Petal_Length\" : 5.0999999999999996447, \"Petal_Width\" : 1.6000000000000000888, \"Species\" : \"versicolor\" }\n",
      "{ \"_id\" : { \"$oid\" : \"5f285486575e0000820047f6\" }, \"Sepal_Length\" : 5.4000000000000003553, \"Sepal_Width\" : 3.0, \"Petal_Length\" : 4.5, \"Petal_Width\" : 1.5, \"Species\" : \"versicolor\" }\n",
      "{ \"_id\" : { \"$oid\" : \"5f285486575e0000820047f7\" }, \"Sepal_Length\" : 6.0, \"Sepal_Width\" : 3.3999999999999999112, \"Petal_Length\" : 4.5, \"Petal_Width\" : 1.6000000000000000888, \"Species\" : \"versicolor\" }\n",
      "{ \"_id\" : { \"$oid\" : \"5f285486575e0000820047f8\" }, \"Sepal_Length\" : 6.7000000000000001776, \"Sepal_Width\" : 3.1000000000000000888, \"Petal_Length\" : 4.7000000000000001776, \"Petal_Width\" : 1.5, \"Species\" : \"versicolor\" }\n",
      "{ \"_id\" : { \"$oid\" : \"5f285486575e0000820047f9\" }, \"Sepal_Length\" : 6.2999999999999998224, \"Sepal_Width\" : 2.2999999999999998224, \"Petal_Length\" : 4.4000000000000003553, \"Petal_Width\" : 1.3000000000000000444, \"Species\" : \"versicolor\" }\n",
      "{ \"_id\" : { \"$oid\" : \"5f285486575e0000820047fa\" }, \"Sepal_Length\" : 5.5999999999999996447, \"Sepal_Width\" : 3.0, \"Petal_Length\" : 4.0999999999999996447, \"Petal_Width\" : 1.3000000000000000444, \"Species\" : \"versicolor\" }\n",
      "{ \"_id\" : { \"$oid\" : \"5f285486575e0000820047fb\" }, \"Sepal_Length\" : 5.5, \"Sepal_Width\" : 2.5, \"Petal_Length\" : 4.0, \"Petal_Width\" : 1.3000000000000000444, \"Species\" : \"versicolor\" }\n",
      "{ \"_id\" : { \"$oid\" : \"5f285486575e0000820047fc\" }, \"Sepal_Length\" : 5.5, \"Sepal_Width\" : 2.6000000000000000888, \"Petal_Length\" : 4.4000000000000003553, \"Petal_Width\" : 1.1999999999999999556, \"Species\" : \"versicolor\" }\n",
      "{ \"_id\" : { \"$oid\" : \"5f285486575e0000820047fd\" }, \"Sepal_Length\" : 6.0999999999999996447, \"Sepal_Width\" : 3.0, \"Petal_Length\" : 4.5999999999999996447, \"Petal_Width\" : 1.3999999999999999112, \"Species\" : \"versicolor\" }\n",
      "{ \"_id\" : { \"$oid\" : \"5f285486575e0000820047fe\" }, \"Sepal_Length\" : 5.7999999999999998224, \"Sepal_Width\" : 2.6000000000000000888, \"Petal_Length\" : 4.0, \"Petal_Width\" : 1.1999999999999999556, \"Species\" : \"versicolor\" }\n",
      "{ \"_id\" : { \"$oid\" : \"5f285486575e0000820047ff\" }, \"Sepal_Length\" : 5.0, \"Sepal_Width\" : 2.2999999999999998224, \"Petal_Length\" : 3.2999999999999998224, \"Petal_Width\" : 1.0, \"Species\" : \"versicolor\" }\n",
      "{ \"_id\" : { \"$oid\" : \"5f285486575e000082004800\" }, \"Sepal_Length\" : 5.5999999999999996447, \"Sepal_Width\" : 2.7000000000000001776, \"Petal_Length\" : 4.2000000000000001776, \"Petal_Width\" : 1.3000000000000000444, \"Species\" : \"versicolor\" }\n",
      "{ \"_id\" : { \"$oid\" : \"5f285486575e000082004801\" }, \"Sepal_Length\" : 5.7000000000000001776, \"Sepal_Width\" : 3.0, \"Petal_Length\" : 4.2000000000000001776, \"Petal_Width\" : 1.1999999999999999556, \"Species\" : \"versicolor\" }\n",
      "{ \"_id\" : { \"$oid\" : \"5f285486575e000082004802\" }, \"Sepal_Length\" : 5.7000000000000001776, \"Sepal_Width\" : 2.8999999999999999112, \"Petal_Length\" : 4.2000000000000001776, \"Petal_Width\" : 1.3000000000000000444, \"Species\" : \"versicolor\" }\n",
      "{ \"_id\" : { \"$oid\" : \"5f285486575e000082004803\" }, \"Sepal_Length\" : 6.2000000000000001776, \"Sepal_Width\" : 2.8999999999999999112, \"Petal_Length\" : 4.2999999999999998224, \"Petal_Width\" : 1.3000000000000000444, \"Species\" : \"versicolor\" }\n",
      "{ \"_id\" : { \"$oid\" : \"5f285486575e000082004804\" }, \"Sepal_Length\" : 5.0999999999999996447, \"Sepal_Width\" : 2.5, \"Petal_Length\" : 3.0, \"Petal_Width\" : 1.1000000000000000888, \"Species\" : \"versicolor\" }\n",
      "{ \"_id\" : { \"$oid\" : \"5f285486575e000082004805\" }, \"Sepal_Length\" : 5.7000000000000001776, \"Sepal_Width\" : 2.7999999999999998224, \"Petal_Length\" : 4.0999999999999996447, \"Petal_Width\" : 1.3000000000000000444, \"Species\" : \"versicolor\" }\n",
      "{ \"_id\" : { \"$oid\" : \"5f285486575e000082004806\" }, \"Sepal_Length\" : 6.2999999999999998224, \"Sepal_Width\" : 3.2999999999999998224, \"Petal_Length\" : 6.0, \"Petal_Width\" : 2.5, \"Species\" : \"virginica\" }\n",
      "{ \"_id\" : { \"$oid\" : \"5f285486575e000082004807\" }, \"Sepal_Length\" : 5.7999999999999998224, \"Sepal_Width\" : 2.7000000000000001776, \"Petal_Length\" : 5.0999999999999996447, \"Petal_Width\" : 1.8999999999999999112, \"Species\" : \"virginica\" }\n",
      "{ \"_id\" : { \"$oid\" : \"5f285486575e000082004808\" }, \"Sepal_Length\" : 7.0999999999999996447, \"Sepal_Width\" : 3.0, \"Petal_Length\" : 5.9000000000000003553, \"Petal_Width\" : 2.1000000000000000888, \"Species\" : \"virginica\" }\n",
      "{ \"_id\" : { \"$oid\" : \"5f285486575e000082004809\" }, \"Sepal_Length\" : 6.2999999999999998224, \"Sepal_Width\" : 2.8999999999999999112, \"Petal_Length\" : 5.5999999999999996447, \"Petal_Width\" : 1.8000000000000000444, \"Species\" : \"virginica\" }\n",
      "{ \"_id\" : { \"$oid\" : \"5f285486575e00008200480a\" }, \"Sepal_Length\" : 6.5, \"Sepal_Width\" : 3.0, \"Petal_Length\" : 5.7999999999999998224, \"Petal_Width\" : 2.2000000000000001776, \"Species\" : \"virginica\" }\n",
      "{ \"_id\" : { \"$oid\" : \"5f285486575e00008200480b\" }, \"Sepal_Length\" : 7.5999999999999996447, \"Sepal_Width\" : 3.0, \"Petal_Length\" : 6.5999999999999996447, \"Petal_Width\" : 2.1000000000000000888, \"Species\" : \"virginica\" }\n",
      "{ \"_id\" : { \"$oid\" : \"5f285486575e00008200480c\" }, \"Sepal_Length\" : 4.9000000000000003553, \"Sepal_Width\" : 2.5, \"Petal_Length\" : 4.5, \"Petal_Width\" : 1.6999999999999999556, \"Species\" : \"virginica\" }\n",
      "{ \"_id\" : { \"$oid\" : \"5f285486575e00008200480d\" }, \"Sepal_Length\" : 7.2999999999999998224, \"Sepal_Width\" : 2.8999999999999999112, \"Petal_Length\" : 6.2999999999999998224, \"Petal_Width\" : 1.8000000000000000444, \"Species\" : \"virginica\" }\n",
      "{ \"_id\" : { \"$oid\" : \"5f285486575e00008200480e\" }, \"Sepal_Length\" : 6.7000000000000001776, \"Sepal_Width\" : 2.5, \"Petal_Length\" : 5.7999999999999998224, \"Petal_Width\" : 1.8000000000000000444, \"Species\" : \"virginica\" }\n",
      "{ \"_id\" : { \"$oid\" : \"5f285486575e00008200480f\" }, \"Sepal_Length\" : 7.2000000000000001776, \"Sepal_Width\" : 3.6000000000000000888, \"Petal_Length\" : 6.0999999999999996447, \"Petal_Width\" : 2.5, \"Species\" : \"virginica\" }\n",
      "{ \"_id\" : { \"$oid\" : \"5f285486575e000082004810\" }, \"Sepal_Length\" : 6.5, \"Sepal_Width\" : 3.2000000000000001776, \"Petal_Length\" : 5.0999999999999996447, \"Petal_Width\" : 2.0, \"Species\" : \"virginica\" }\n",
      "{ \"_id\" : { \"$oid\" : \"5f285486575e000082004811\" }, \"Sepal_Length\" : 6.4000000000000003553, \"Sepal_Width\" : 2.7000000000000001776, \"Petal_Length\" : 5.2999999999999998224, \"Petal_Width\" : 1.8999999999999999112, \"Species\" : \"virginica\" }\n",
      "{ \"_id\" : { \"$oid\" : \"5f285486575e000082004812\" }, \"Sepal_Length\" : 6.7999999999999998224, \"Sepal_Width\" : 3.0, \"Petal_Length\" : 5.5, \"Petal_Width\" : 2.1000000000000000888, \"Species\" : \"virginica\" }\n",
      "{ \"_id\" : { \"$oid\" : \"5f285486575e000082004813\" }, \"Sepal_Length\" : 5.7000000000000001776, \"Sepal_Width\" : 2.5, \"Petal_Length\" : 5.0, \"Petal_Width\" : 2.0, \"Species\" : \"virginica\" }\n",
      "{ \"_id\" : { \"$oid\" : \"5f285486575e000082004814\" }, \"Sepal_Length\" : 5.7999999999999998224, \"Sepal_Width\" : 2.7999999999999998224, \"Petal_Length\" : 5.0999999999999996447, \"Petal_Width\" : 2.3999999999999999112, \"Species\" : \"virginica\" }\n",
      "{ \"_id\" : { \"$oid\" : \"5f285486575e000082004815\" }, \"Sepal_Length\" : 6.4000000000000003553, \"Sepal_Width\" : 3.2000000000000001776, \"Petal_Length\" : 5.2999999999999998224, \"Petal_Width\" : 2.2999999999999998224, \"Species\" : \"virginica\" }\n",
      "{ \"_id\" : { \"$oid\" : \"5f285486575e000082004816\" }, \"Sepal_Length\" : 6.5, \"Sepal_Width\" : 3.0, \"Petal_Length\" : 5.5, \"Petal_Width\" : 1.8000000000000000444, \"Species\" : \"virginica\" }\n",
      "{ \"_id\" : { \"$oid\" : \"5f285486575e000082004817\" }, \"Sepal_Length\" : 7.7000000000000001776, \"Sepal_Width\" : 3.7999999999999998224, \"Petal_Length\" : 6.7000000000000001776, \"Petal_Width\" : 2.2000000000000001776, \"Species\" : \"virginica\" }\n",
      "{ \"_id\" : { \"$oid\" : \"5f285486575e000082004818\" }, \"Sepal_Length\" : 7.7000000000000001776, \"Sepal_Width\" : 2.6000000000000000888, \"Petal_Length\" : 6.9000000000000003553, \"Petal_Width\" : 2.2999999999999998224, \"Species\" : \"virginica\" }\n",
      "{ \"_id\" : { \"$oid\" : \"5f285486575e000082004819\" }, \"Sepal_Length\" : 6.0, \"Sepal_Width\" : 2.2000000000000001776, \"Petal_Length\" : 5.0, \"Petal_Width\" : 1.5, \"Species\" : \"virginica\" }\n",
      "{ \"_id\" : { \"$oid\" : \"5f285486575e00008200481a\" }, \"Sepal_Length\" : 6.9000000000000003553, \"Sepal_Width\" : 3.2000000000000001776, \"Petal_Length\" : 5.7000000000000001776, \"Petal_Width\" : 2.2999999999999998224, \"Species\" : \"virginica\" }\n",
      "{ \"_id\" : { \"$oid\" : \"5f285486575e00008200481b\" }, \"Sepal_Length\" : 5.5999999999999996447, \"Sepal_Width\" : 2.7999999999999998224, \"Petal_Length\" : 4.9000000000000003553, \"Petal_Width\" : 2.0, \"Species\" : \"virginica\" }\n",
      "{ \"_id\" : { \"$oid\" : \"5f285486575e00008200481c\" }, \"Sepal_Length\" : 7.7000000000000001776, \"Sepal_Width\" : 2.7999999999999998224, \"Petal_Length\" : 6.7000000000000001776, \"Petal_Width\" : 2.0, \"Species\" : \"virginica\" }\n",
      "{ \"_id\" : { \"$oid\" : \"5f285486575e00008200481d\" }, \"Sepal_Length\" : 6.2999999999999998224, \"Sepal_Width\" : 2.7000000000000001776, \"Petal_Length\" : 4.9000000000000003553, \"Petal_Width\" : 1.8000000000000000444, \"Species\" : \"virginica\" }\n",
      "{ \"_id\" : { \"$oid\" : \"5f285486575e00008200481e\" }, \"Sepal_Length\" : 6.7000000000000001776, \"Sepal_Width\" : 3.2999999999999998224, \"Petal_Length\" : 5.7000000000000001776, \"Petal_Width\" : 2.1000000000000000888, \"Species\" : \"virginica\" }\n",
      "{ \"_id\" : { \"$oid\" : \"5f285486575e00008200481f\" }, \"Sepal_Length\" : 7.2000000000000001776, \"Sepal_Width\" : 3.2000000000000001776, \"Petal_Length\" : 6.0, \"Petal_Width\" : 1.8000000000000000444, \"Species\" : \"virginica\" }\n",
      "{ \"_id\" : { \"$oid\" : \"5f285486575e000082004820\" }, \"Sepal_Length\" : 6.2000000000000001776, \"Sepal_Width\" : 2.7999999999999998224, \"Petal_Length\" : 4.7999999999999998224, \"Petal_Width\" : 1.8000000000000000444, \"Species\" : \"virginica\" }\n",
      "{ \"_id\" : { \"$oid\" : \"5f285486575e000082004821\" }, \"Sepal_Length\" : 6.0999999999999996447, \"Sepal_Width\" : 3.0, \"Petal_Length\" : 4.9000000000000003553, \"Petal_Width\" : 1.8000000000000000444, \"Species\" : \"virginica\" }\n",
      "{ \"_id\" : { \"$oid\" : \"5f285486575e000082004822\" }, \"Sepal_Length\" : 6.4000000000000003553, \"Sepal_Width\" : 2.7999999999999998224, \"Petal_Length\" : 5.5999999999999996447, \"Petal_Width\" : 2.1000000000000000888, \"Species\" : \"virginica\" }\n",
      "{ \"_id\" : { \"$oid\" : \"5f285486575e000082004823\" }, \"Sepal_Length\" : 7.2000000000000001776, \"Sepal_Width\" : 3.0, \"Petal_Length\" : 5.7999999999999998224, \"Petal_Width\" : 1.6000000000000000888, \"Species\" : \"virginica\" }\n",
      "{ \"_id\" : { \"$oid\" : \"5f285486575e000082004824\" }, \"Sepal_Length\" : 7.4000000000000003553, \"Sepal_Width\" : 2.7999999999999998224, \"Petal_Length\" : 6.0999999999999996447, \"Petal_Width\" : 1.8999999999999999112, \"Species\" : \"virginica\" }\n",
      "{ \"_id\" : { \"$oid\" : \"5f285486575e000082004825\" }, \"Sepal_Length\" : 7.9000000000000003553, \"Sepal_Width\" : 3.7999999999999998224, \"Petal_Length\" : 6.4000000000000003553, \"Petal_Width\" : 2.0, \"Species\" : \"virginica\" }\n",
      "{ \"_id\" : { \"$oid\" : \"5f285486575e000082004826\" }, \"Sepal_Length\" : 6.4000000000000003553, \"Sepal_Width\" : 2.7999999999999998224, \"Petal_Length\" : 5.5999999999999996447, \"Petal_Width\" : 2.2000000000000001776, \"Species\" : \"virginica\" }\n",
      "{ \"_id\" : { \"$oid\" : \"5f285486575e000082004827\" }, \"Sepal_Length\" : 6.2999999999999998224, \"Sepal_Width\" : 2.7999999999999998224, \"Petal_Length\" : 5.0999999999999996447, \"Petal_Width\" : 1.5, \"Species\" : \"virginica\" }\n",
      "{ \"_id\" : { \"$oid\" : \"5f285486575e000082004828\" }, \"Sepal_Length\" : 6.0999999999999996447, \"Sepal_Width\" : 2.6000000000000000888, \"Petal_Length\" : 5.5999999999999996447, \"Petal_Width\" : 1.3999999999999999112, \"Species\" : \"virginica\" }\n",
      "{ \"_id\" : { \"$oid\" : \"5f285486575e000082004829\" }, \"Sepal_Length\" : 7.7000000000000001776, \"Sepal_Width\" : 3.0, \"Petal_Length\" : 6.0999999999999996447, \"Petal_Width\" : 2.2999999999999998224, \"Species\" : \"virginica\" }\n",
      "{ \"_id\" : { \"$oid\" : \"5f285486575e00008200482a\" }, \"Sepal_Length\" : 6.2999999999999998224, \"Sepal_Width\" : 3.3999999999999999112, \"Petal_Length\" : 5.5999999999999996447, \"Petal_Width\" : 2.3999999999999999112, \"Species\" : \"virginica\" }\n",
      "{ \"_id\" : { \"$oid\" : \"5f285486575e00008200482b\" }, \"Sepal_Length\" : 6.4000000000000003553, \"Sepal_Width\" : 3.1000000000000000888, \"Petal_Length\" : 5.5, \"Petal_Width\" : 1.8000000000000000444, \"Species\" : \"virginica\" }\n",
      "{ \"_id\" : { \"$oid\" : \"5f285486575e00008200482c\" }, \"Sepal_Length\" : 6.0, \"Sepal_Width\" : 3.0, \"Petal_Length\" : 4.7999999999999998224, \"Petal_Width\" : 1.8000000000000000444, \"Species\" : \"virginica\" }\n",
      "{ \"_id\" : { \"$oid\" : \"5f285486575e00008200482d\" }, \"Sepal_Length\" : 6.9000000000000003553, \"Sepal_Width\" : 3.1000000000000000888, \"Petal_Length\" : 5.4000000000000003553, \"Petal_Width\" : 2.1000000000000000888, \"Species\" : \"virginica\" }\n",
      "{ \"_id\" : { \"$oid\" : \"5f285486575e00008200482e\" }, \"Sepal_Length\" : 6.7000000000000001776, \"Sepal_Width\" : 3.1000000000000000888, \"Petal_Length\" : 5.5999999999999996447, \"Petal_Width\" : 2.3999999999999999112, \"Species\" : \"virginica\" }\n",
      "{ \"_id\" : { \"$oid\" : \"5f285486575e00008200482f\" }, \"Sepal_Length\" : 6.9000000000000003553, \"Sepal_Width\" : 3.1000000000000000888, \"Petal_Length\" : 5.0999999999999996447, \"Petal_Width\" : 2.2999999999999998224, \"Species\" : \"virginica\" }\n",
      "{ \"_id\" : { \"$oid\" : \"5f285486575e000082004830\" }, \"Sepal_Length\" : 5.7999999999999998224, \"Sepal_Width\" : 2.7000000000000001776, \"Petal_Length\" : 5.0999999999999996447, \"Petal_Width\" : 1.8999999999999999112, \"Species\" : \"virginica\" }\n",
      "{ \"_id\" : { \"$oid\" : \"5f285486575e000082004831\" }, \"Sepal_Length\" : 6.7999999999999998224, \"Sepal_Width\" : 3.2000000000000001776, \"Petal_Length\" : 5.9000000000000003553, \"Petal_Width\" : 2.2999999999999998224, \"Species\" : \"virginica\" }\n",
      "{ \"_id\" : { \"$oid\" : \"5f285486575e000082004832\" }, \"Sepal_Length\" : 6.7000000000000001776, \"Sepal_Width\" : 3.2999999999999998224, \"Petal_Length\" : 5.7000000000000001776, \"Petal_Width\" : 2.5, \"Species\" : \"virginica\" }\n",
      "{ \"_id\" : { \"$oid\" : \"5f285486575e000082004833\" }, \"Sepal_Length\" : 6.7000000000000001776, \"Sepal_Width\" : 3.0, \"Petal_Length\" : 5.2000000000000001776, \"Petal_Width\" : 2.2999999999999998224, \"Species\" : \"virginica\" }\n",
      "{ \"_id\" : { \"$oid\" : \"5f285486575e000082004834\" }, \"Sepal_Length\" : 6.2999999999999998224, \"Sepal_Width\" : 2.5, \"Petal_Length\" : 5.0, \"Petal_Width\" : 1.8999999999999999112, \"Species\" : \"virginica\" }\n",
      "{ \"_id\" : { \"$oid\" : \"5f285486575e000082004835\" }, \"Sepal_Length\" : 6.5, \"Sepal_Width\" : 3.0, \"Petal_Length\" : 5.2000000000000001776, \"Petal_Width\" : 2.0, \"Species\" : \"virginica\" }\n",
      "{ \"_id\" : { \"$oid\" : \"5f285486575e000082004836\" }, \"Sepal_Length\" : 6.2000000000000001776, \"Sepal_Width\" : 3.3999999999999999112, \"Petal_Length\" : 5.4000000000000003553, \"Petal_Width\" : 2.2999999999999998224, \"Species\" : \"virginica\" }\n",
      "{ \"_id\" : { \"$oid\" : \"5f285486575e000082004837\" }, \"Sepal_Length\" : 5.9000000000000003553, \"Sepal_Width\" : 3.0, \"Petal_Length\" : 5.0999999999999996447, \"Petal_Width\" : 1.8000000000000000444, \"Species\" : \"virginica\" }\n"
     ]
    }
   ],
   "source": [
    "# Usar a function export para exibir os documentos da coleção iris\n",
    "iris$export(stdout())"
   ]
  },
  {
   "cell_type": "code",
   "execution_count": 88,
   "metadata": {},
   "outputs": [],
   "source": [
    "# Exportar os documentos da coleção para um arquivo Json\n",
    "# se não informar o caminho, o arquivo será gerado no diretório de trabalho\n",
    "iris$export(file(\"dumpIris.json\"))"
   ]
  },
  {
   "cell_type": "code",
   "execution_count": 89,
   "metadata": {},
   "outputs": [],
   "source": [
    "# Gerar o arquivo para um local específico\n",
    "iris$export(file(\"C:/Users/Alberto Pinalli/Documents/GitHub/CientistaDeDados-IGTI/Bootcamp/arquivos/dumpIris.json\"))"
   ]
  },
  {
   "cell_type": "markdown",
   "metadata": {},
   "source": [
    "### Importar dados de um arquivo *JSON* para uma coleção"
   ]
  },
  {
   "cell_type": "code",
   "execution_count": 91,
   "metadata": {},
   "outputs": [],
   "source": [
    "# Criar uma nova conexão ao banco de dados\n",
    "irisDump <- mongo(collection = \"irisDump\", db = \"igti\", url = \"mongodb://localhost\")"
   ]
  },
  {
   "cell_type": "code",
   "execution_count": 92,
   "metadata": {},
   "outputs": [],
   "source": [
    "# importa os documentos do arquivo para a nova coleção\n",
    "irisDump$import(file(\"C:/Users/Alberto Pinalli/Documents/GitHub/CientistaDeDados-IGTI/Bootcamp/arquivos/dumpIris.json\"))"
   ]
  },
  {
   "cell_type": "code",
   "execution_count": 93,
   "metadata": {},
   "outputs": [
    {
     "data": {
      "text/html": [
       "150"
      ],
      "text/latex": [
       "150"
      ],
      "text/markdown": [
       "150"
      ],
      "text/plain": [
       "[1] 150"
      ]
     },
     "metadata": {},
     "output_type": "display_data"
    }
   ],
   "source": [
    "irisDump$count()"
   ]
  },
  {
   "cell_type": "code",
   "execution_count": 95,
   "metadata": {},
   "outputs": [
    {
     "data": {
      "text/html": [
       "<table>\n",
       "<thead><tr><th scope=col>Sepal_Length</th><th scope=col>Sepal_Width</th><th scope=col>Petal_Length</th><th scope=col>Petal_Width</th><th scope=col>Species</th></tr></thead>\n",
       "<tbody>\n",
       "\t<tr><td>5.1   </td><td>3.5   </td><td>1.4   </td><td>0.2   </td><td>setosa</td></tr>\n",
       "\t<tr><td>4.9   </td><td>3.0   </td><td>1.4   </td><td>0.2   </td><td>setosa</td></tr>\n",
       "\t<tr><td>4.7   </td><td>3.2   </td><td>1.3   </td><td>0.2   </td><td>setosa</td></tr>\n",
       "\t<tr><td>4.6   </td><td>3.1   </td><td>1.5   </td><td>0.2   </td><td>setosa</td></tr>\n",
       "\t<tr><td>5.0   </td><td>3.6   </td><td>1.4   </td><td>0.2   </td><td>setosa</td></tr>\n",
       "</tbody>\n",
       "</table>\n"
      ],
      "text/latex": [
       "\\begin{tabular}{r|lllll}\n",
       " Sepal\\_Length & Sepal\\_Width & Petal\\_Length & Petal\\_Width & Species\\\\\n",
       "\\hline\n",
       "\t 5.1    & 3.5    & 1.4    & 0.2    & setosa\\\\\n",
       "\t 4.9    & 3.0    & 1.4    & 0.2    & setosa\\\\\n",
       "\t 4.7    & 3.2    & 1.3    & 0.2    & setosa\\\\\n",
       "\t 4.6    & 3.1    & 1.5    & 0.2    & setosa\\\\\n",
       "\t 5.0    & 3.6    & 1.4    & 0.2    & setosa\\\\\n",
       "\\end{tabular}\n"
      ],
      "text/markdown": [
       "\n",
       "| Sepal_Length | Sepal_Width | Petal_Length | Petal_Width | Species |\n",
       "|---|---|---|---|---|\n",
       "| 5.1    | 3.5    | 1.4    | 0.2    | setosa |\n",
       "| 4.9    | 3.0    | 1.4    | 0.2    | setosa |\n",
       "| 4.7    | 3.2    | 1.3    | 0.2    | setosa |\n",
       "| 4.6    | 3.1    | 1.5    | 0.2    | setosa |\n",
       "| 5.0    | 3.6    | 1.4    | 0.2    | setosa |\n",
       "\n"
      ],
      "text/plain": [
       "  Sepal_Length Sepal_Width Petal_Length Petal_Width Species\n",
       "1 5.1          3.5         1.4          0.2         setosa \n",
       "2 4.9          3.0         1.4          0.2         setosa \n",
       "3 4.7          3.2         1.3          0.2         setosa \n",
       "4 4.6          3.1         1.5          0.2         setosa \n",
       "5 5.0          3.6         1.4          0.2         setosa "
      ]
     },
     "metadata": {},
     "output_type": "display_data"
    }
   ],
   "source": [
    "irisDump$find(limit=5)"
   ]
  },
  {
   "cell_type": "code",
   "execution_count": 96,
   "metadata": {},
   "outputs": [],
   "source": [
    "# Remover a conexão com a coleção irisDump\n",
    "rm(irisDump)"
   ]
  },
  {
   "cell_type": "markdown",
   "metadata": {},
   "source": [
    "## Desconectar"
   ]
  },
  {
   "cell_type": "code",
   "execution_count": 97,
   "metadata": {},
   "outputs": [],
   "source": [
    "# Desconecta do MongoDB\n",
    "iris$disconnect()"
   ]
  },
  {
   "cell_type": "code",
   "execution_count": 98,
   "metadata": {},
   "outputs": [
    {
     "name": "stderr",
     "output_type": "stream",
     "text": [
      "Connection lost. Trying to reconnect with mongo...\n"
     ]
    },
    {
     "data": {
      "text/html": [
       "150"
      ],
      "text/latex": [
       "150"
      ],
      "text/markdown": [
       "150"
      ],
      "text/plain": [
       "[1] 150"
      ]
     },
     "metadata": {},
     "output_type": "display_data"
    }
   ],
   "source": [
    "# Contar o numero de documentos existentes na coleção iris\n",
    "iris$count()"
   ]
  },
  {
   "cell_type": "code",
   "execution_count": null,
   "metadata": {},
   "outputs": [],
   "source": [
    "iris$disconnect(gc =TRUE)"
   ]
  },
  {
   "cell_type": "markdown",
   "metadata": {},
   "source": [
    "## Ler a coleção Iris no arquivo CSV e inserir no MongoDB"
   ]
  },
  {
   "cell_type": "code",
   "execution_count": 10,
   "metadata": {},
   "outputs": [
    {
     "name": "stderr",
     "output_type": "stream",
     "text": [
      "Warning message in file(file, \"rt\"):\n",
      "\"não foi possível abrir o arquivo 'C:/Users/Alberto Pinalli/Documents/GitHub/CientistaDeDados-IGTI/Bootcamp/arquivos/Iris.csv': No such file or directory\""
     ]
    },
    {
     "ename": "ERROR",
     "evalue": "Error in file(file, \"rt\"): não é possível abrir a conexão\n",
     "output_type": "error",
     "traceback": [
      "Error in file(file, \"rt\"): não é possível abrir a conexão\nTraceback:\n",
      "1. read.csv(\"C:/Users/Alberto Pinalli/Documents/GitHub/CientistaDeDados-IGTI/Bootcamp/arquivos/Iris.csv\")",
      "2. read.table(file = file, header = header, sep = sep, quote = quote, \n .     dec = dec, fill = fill, comment.char = comment.char, ...)",
      "3. file(file, \"rt\")"
     ]
    }
   ],
   "source": [
    "iris <- read.csv(\"C:/Users/Alberto Pinalli/Documents/GitHub/CientistaDeDados-IGTI/Bootcamp/arquivos/Iris.csv\")"
   ]
  },
  {
   "cell_type": "code",
   "execution_count": 55,
   "metadata": {},
   "outputs": [],
   "source": [
    "iris <- mongo(collection = \"iris\", db =\"igti\", url = \"mongodb://localhost\")"
   ]
  },
  {
   "cell_type": "code",
   "execution_count": 56,
   "metadata": {},
   "outputs": [],
   "source": [
    "# iris$count()\n",
    "# cria um data.frame cokm todos os dados da coleção\n",
    "iris.df <- iris$find()"
   ]
  },
  {
   "cell_type": "code",
   "execution_count": 52,
   "metadata": {},
   "outputs": [
    {
     "ename": "ERROR",
     "evalue": "Error in ncol(iris.df): objeto 'iris.df' não encontrado\n",
     "output_type": "error",
     "traceback": [
      "Error in ncol(iris.df): objeto 'iris.df' não encontrado\nTraceback:\n",
      "1. print(paste(\"Número de colunas: \", ncol(iris.df)))",
      "2. paste(\"Número de colunas: \", ncol(iris.df))",
      "3. ncol(iris.df)"
     ]
    }
   ],
   "source": []
  },
  {
   "cell_type": "code",
   "execution_count": 17,
   "metadata": {},
   "outputs": [
    {
     "data": {
      "text/plain": [
       "List of 5\n",
       " $ nInserted  : num 150\n",
       " $ nMatched   : num 0\n",
       " $ nRemoved   : num 0\n",
       " $ nUpserted  : num 0\n",
       " $ writeErrors: list()"
      ]
     },
     "metadata": {},
     "output_type": "display_data"
    }
   ],
   "source": [
    "connection$insert(iris)"
   ]
  },
  {
   "cell_type": "code",
   "execution_count": 18,
   "metadata": {},
   "outputs": [
    {
     "data": {
      "text/html": [
       "<table>\n",
       "<thead><tr><th scope=col>Sepal_Length</th><th scope=col>Sepal_Width</th><th scope=col>Petal_Length</th><th scope=col>Petal_Width</th><th scope=col>Species</th></tr></thead>\n",
       "<tbody>\n",
       "\t<tr><td>5.1   </td><td>3.5   </td><td>1.4   </td><td>0.2   </td><td>setosa</td></tr>\n",
       "\t<tr><td>4.9   </td><td>3.0   </td><td>1.4   </td><td>0.2   </td><td>setosa</td></tr>\n",
       "\t<tr><td>4.7   </td><td>3.2   </td><td>1.3   </td><td>0.2   </td><td>setosa</td></tr>\n",
       "\t<tr><td>4.6   </td><td>3.1   </td><td>1.5   </td><td>0.2   </td><td>setosa</td></tr>\n",
       "\t<tr><td>5.0   </td><td>3.6   </td><td>1.4   </td><td>0.2   </td><td>setosa</td></tr>\n",
       "</tbody>\n",
       "</table>\n"
      ],
      "text/latex": [
       "\\begin{tabular}{r|lllll}\n",
       " Sepal\\_Length & Sepal\\_Width & Petal\\_Length & Petal\\_Width & Species\\\\\n",
       "\\hline\n",
       "\t 5.1    & 3.5    & 1.4    & 0.2    & setosa\\\\\n",
       "\t 4.9    & 3.0    & 1.4    & 0.2    & setosa\\\\\n",
       "\t 4.7    & 3.2    & 1.3    & 0.2    & setosa\\\\\n",
       "\t 4.6    & 3.1    & 1.5    & 0.2    & setosa\\\\\n",
       "\t 5.0    & 3.6    & 1.4    & 0.2    & setosa\\\\\n",
       "\\end{tabular}\n"
      ],
      "text/markdown": [
       "\n",
       "| Sepal_Length | Sepal_Width | Petal_Length | Petal_Width | Species |\n",
       "|---|---|---|---|---|\n",
       "| 5.1    | 3.5    | 1.4    | 0.2    | setosa |\n",
       "| 4.9    | 3.0    | 1.4    | 0.2    | setosa |\n",
       "| 4.7    | 3.2    | 1.3    | 0.2    | setosa |\n",
       "| 4.6    | 3.1    | 1.5    | 0.2    | setosa |\n",
       "| 5.0    | 3.6    | 1.4    | 0.2    | setosa |\n",
       "\n"
      ],
      "text/plain": [
       "  Sepal_Length Sepal_Width Petal_Length Petal_Width Species\n",
       "1 5.1          3.5         1.4          0.2         setosa \n",
       "2 4.9          3.0         1.4          0.2         setosa \n",
       "3 4.7          3.2         1.3          0.2         setosa \n",
       "4 4.6          3.1         1.5          0.2         setosa \n",
       "5 5.0          3.6         1.4          0.2         setosa "
      ]
     },
     "metadata": {},
     "output_type": "display_data"
    }
   ],
   "source": [
    "connection$find(limit = 5)"
   ]
  },
  {
   "cell_type": "code",
   "execution_count": 25,
   "metadata": {},
   "outputs": [
    {
     "data": {
      "text/plain": [
       "List of 6\n",
       " $ nInserted  : int 3\n",
       " $ nMatched   : int 0\n",
       " $ nModified  : int 0\n",
       " $ nRemoved   : int 0\n",
       " $ nUpserted  : int 0\n",
       " $ writeErrors: list()"
      ]
     },
     "metadata": {},
     "output_type": "display_data"
    }
   ],
   "source": [
    "pessoas <- mongo(collection = \"pessoas\", db = \"igti\", url = \"mongodb://localhost\")\n",
    "str <- c('{\"nome\" : \"maria\"}', '{\"nome\": \"ana\", \"idade\" : 23}', '{\"nome\": \"joão\"}')\n",
    "pessoas$insert(str)"
   ]
  },
  {
   "cell_type": "code",
   "execution_count": 26,
   "metadata": {},
   "outputs": [
    {
     "data": {
      "text/html": [
       "<table>\n",
       "<thead><tr><th scope=col>nome</th><th scope=col>idade</th></tr></thead>\n",
       "<tbody>\n",
       "\t<tr><td>maria</td><td>NA   </td></tr>\n",
       "\t<tr><td>ana  </td><td>23   </td></tr>\n",
       "\t<tr><td>joão </td><td>NA   </td></tr>\n",
       "</tbody>\n",
       "</table>\n"
      ],
      "text/latex": [
       "\\begin{tabular}{r|ll}\n",
       " nome & idade\\\\\n",
       "\\hline\n",
       "\t maria & NA   \\\\\n",
       "\t ana   & 23   \\\\\n",
       "\t joão  & NA   \\\\\n",
       "\\end{tabular}\n"
      ],
      "text/markdown": [
       "\n",
       "| nome | idade |\n",
       "|---|---|\n",
       "| maria | NA    |\n",
       "| ana   | 23    |\n",
       "| joão  | NA    |\n",
       "\n"
      ],
      "text/plain": [
       "  nome  idade\n",
       "1 maria NA   \n",
       "2 ana   23   \n",
       "3 joão  NA   "
      ]
     },
     "metadata": {},
     "output_type": "display_data"
    }
   ],
   "source": [
    "pessoas$find()"
   ]
  },
  {
   "cell_type": "code",
   "execution_count": 27,
   "metadata": {},
   "outputs": [
    {
     "data": {
      "text/html": [
       "3"
      ],
      "text/latex": [
       "3"
      ],
      "text/markdown": [
       "3"
      ],
      "text/plain": [
       "[1] 3"
      ]
     },
     "metadata": {},
     "output_type": "display_data"
    }
   ],
   "source": [
    "pessoas$count()\n",
    "\n"
   ]
  },
  {
   "cell_type": "code",
   "execution_count": 28,
   "metadata": {},
   "outputs": [
    {
     "data": {
      "text/html": [
       "2"
      ],
      "text/latex": [
       "2"
      ],
      "text/markdown": [
       "2"
      ],
      "text/plain": [
       "[1] 2"
      ]
     },
     "metadata": {},
     "output_type": "display_data"
    }
   ],
   "source": [
    "pessoas$remove('{\"idade\" : 23}')\n",
    "pessoas$count()"
   ]
  },
  {
   "cell_type": "code",
   "execution_count": 33,
   "metadata": {},
   "outputs": [
    {
     "data": {
      "text/html": [
       "<table>\n",
       "<thead><tr><th scope=col>nome</th><th scope=col>idade</th></tr></thead>\n",
       "<tbody>\n",
       "\t<tr><td>maria</td><td>NA   </td></tr>\n",
       "\t<tr><td>joão </td><td>NA   </td></tr>\n",
       "\t<tr><td>Bill </td><td>NA   </td></tr>\n",
       "\t<tr><td>anna </td><td>23   </td></tr>\n",
       "\t<tr><td>josé </td><td>35   </td></tr>\n",
       "</tbody>\n",
       "</table>\n"
      ],
      "text/latex": [
       "\\begin{tabular}{r|ll}\n",
       " nome & idade\\\\\n",
       "\\hline\n",
       "\t maria & NA   \\\\\n",
       "\t joão  & NA   \\\\\n",
       "\t Bill  & NA   \\\\\n",
       "\t anna  & 23   \\\\\n",
       "\t josé  & 35   \\\\\n",
       "\\end{tabular}\n"
      ],
      "text/markdown": [
       "\n",
       "| nome | idade |\n",
       "|---|---|\n",
       "| maria | NA    |\n",
       "| joão  | NA    |\n",
       "| Bill  | NA    |\n",
       "| anna  | 23    |\n",
       "| josé  | 35    |\n",
       "\n"
      ],
      "text/plain": [
       "  nome  idade\n",
       "1 maria NA   \n",
       "2 joão  NA   \n",
       "3 Bill  NA   \n",
       "4 anna  23   \n",
       "5 josé  35   "
      ]
     },
     "metadata": {},
     "output_type": "display_data"
    },
    {
     "data": {
      "text/html": [
       "5"
      ],
      "text/latex": [
       "5"
      ],
      "text/markdown": [
       "5"
      ],
      "text/plain": [
       "[1] 5"
      ]
     },
     "metadata": {},
     "output_type": "display_data"
    }
   ],
   "source": [
    "pessoas$find()\n"
   ]
  },
  {
   "cell_type": "code",
   "execution_count": 30,
   "metadata": {},
   "outputs": [
    {
     "data": {
      "text/plain": [
       "List of 6\n",
       " $ nInserted  : int 3\n",
       " $ nMatched   : int 0\n",
       " $ nModified  : int 0\n",
       " $ nRemoved   : int 0\n",
       " $ nUpserted  : int 0\n",
       " $ writeErrors: list()"
      ]
     },
     "metadata": {},
     "output_type": "display_data"
    }
   ],
   "source": [
    "str <- c('{\"nome\" : \"Bill\"}', '{\"nome\": \"anna\", \"idade\" : 23}', '{\"nome\": \"josé\", \"idade\" : 35}')\n",
    "pessoas$insert(str)"
   ]
  },
  {
   "cell_type": "code",
   "execution_count": 41,
   "metadata": {},
   "outputs": [
    {
     "data": {
      "text/html": [
       "<table>\n",
       "<thead><tr><th scope=col>nome</th><th scope=col>idade</th></tr></thead>\n",
       "<tbody>\n",
       "\t<tr><td>maria</td><td>NA   </td></tr>\n",
       "\t<tr><td>joão </td><td>NA   </td></tr>\n",
       "\t<tr><td>Bill </td><td>21   </td></tr>\n",
       "\t<tr><td>anna </td><td>23   </td></tr>\n",
       "\t<tr><td>josé </td><td>35   </td></tr>\n",
       "</tbody>\n",
       "</table>\n"
      ],
      "text/latex": [
       "\\begin{tabular}{r|ll}\n",
       " nome & idade\\\\\n",
       "\\hline\n",
       "\t maria & NA   \\\\\n",
       "\t joão  & NA   \\\\\n",
       "\t Bill  & 21   \\\\\n",
       "\t anna  & 23   \\\\\n",
       "\t josé  & 35   \\\\\n",
       "\\end{tabular}\n"
      ],
      "text/markdown": [
       "\n",
       "| nome | idade |\n",
       "|---|---|\n",
       "| maria | NA    |\n",
       "| joão  | NA    |\n",
       "| Bill  | 21    |\n",
       "| anna  | 23    |\n",
       "| josé  | 35    |\n",
       "\n"
      ],
      "text/plain": [
       "  nome  idade\n",
       "1 maria NA   \n",
       "2 joão  NA   \n",
       "3 Bill  21   \n",
       "4 anna  23   \n",
       "5 josé  35   "
      ]
     },
     "metadata": {},
     "output_type": "display_data"
    },
    {
     "data": {
      "text/html": [
       "5"
      ],
      "text/latex": [
       "5"
      ],
      "text/markdown": [
       "5"
      ],
      "text/plain": [
       "[1] 5"
      ]
     },
     "metadata": {},
     "output_type": "display_data"
    }
   ],
   "source": [
    "pessoas$find()\n",
    "pessoas$count()"
   ]
  },
  {
   "cell_type": "code",
   "execution_count": 38,
   "metadata": {},
   "outputs": [
    {
     "data": {
      "text/plain": [
       "List of 3\n",
       " $ modifiedCount: int 1\n",
       " $ matchedCount : int 1\n",
       " $ upsertedCount: int 0"
      ]
     },
     "metadata": {},
     "output_type": "display_data"
    }
   ],
   "source": [
    "pessoas$update('{\"nome\": \"Bill\"}', '{\"$set\":{\"idade\": 21}}')"
   ]
  },
  {
   "cell_type": "code",
   "execution_count": 42,
   "metadata": {},
   "outputs": [
    {
     "data": {
      "text/html": [
       "<table>\n",
       "<thead><tr><th scope=col>nome</th><th scope=col>idade</th></tr></thead>\n",
       "<tbody>\n",
       "\t<tr><td>maria</td><td>NA   </td></tr>\n",
       "\t<tr><td>joão </td><td>NA   </td></tr>\n",
       "\t<tr><td>Bill </td><td>21   </td></tr>\n",
       "\t<tr><td>anna </td><td>23   </td></tr>\n",
       "\t<tr><td>josé </td><td>35   </td></tr>\n",
       "</tbody>\n",
       "</table>\n"
      ],
      "text/latex": [
       "\\begin{tabular}{r|ll}\n",
       " nome & idade\\\\\n",
       "\\hline\n",
       "\t maria & NA   \\\\\n",
       "\t joão  & NA   \\\\\n",
       "\t Bill  & 21   \\\\\n",
       "\t anna  & 23   \\\\\n",
       "\t josé  & 35   \\\\\n",
       "\\end{tabular}\n"
      ],
      "text/markdown": [
       "\n",
       "| nome | idade |\n",
       "|---|---|\n",
       "| maria | NA    |\n",
       "| joão  | NA    |\n",
       "| Bill  | 21    |\n",
       "| anna  | 23    |\n",
       "| josé  | 35    |\n",
       "\n"
      ],
      "text/plain": [
       "  nome  idade\n",
       "1 maria NA   \n",
       "2 joão  NA   \n",
       "3 Bill  21   \n",
       "4 anna  23   \n",
       "5 josé  35   "
      ]
     },
     "metadata": {},
     "output_type": "display_data"
    }
   ],
   "source": [
    "pessoas$find()"
   ]
  },
  {
   "cell_type": "code",
   "execution_count": null,
   "metadata": {},
   "outputs": [],
   "source": []
  }
 ],
 "metadata": {
  "kernelspec": {
   "display_name": "R",
   "language": "R",
   "name": "ir"
  },
  "language_info": {
   "codemirror_mode": "r",
   "file_extension": ".r",
   "mimetype": "text/x-r-source",
   "name": "R",
   "pygments_lexer": "r",
   "version": "3.6.1"
  }
 },
 "nbformat": 4,
 "nbformat_minor": 4
}
