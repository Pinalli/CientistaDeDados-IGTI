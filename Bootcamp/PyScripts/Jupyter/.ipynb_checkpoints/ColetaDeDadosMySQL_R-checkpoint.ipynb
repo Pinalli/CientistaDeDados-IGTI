{
 "cells": [
  {
   "cell_type": "code",
   "execution_count": 1,
   "metadata": {},
   "outputs": [
    {
     "name": "stderr",
     "output_type": "stream",
     "text": [
      "Loading required package: RMariaDB\n",
      "Warning message:\n",
      "\"package 'RMariaDB' was built under R version 3.6.3\""
     ]
    }
   ],
   "source": [
    "# install.packages('RMariaDB')\n",
    "# https://db.rstudio.com/dbi\n",
    "\n",
    "#importação do pacote\n",
    "#importa pacote RMariaDB se ele ainda não foi criado\n",
    "\n",
    "if(!\"RMariaDB\" %in% (.packages())){require(RMariaDB)}"
   ]
  },
  {
   "cell_type": "code",
   "execution_count": 2,
   "metadata": {},
   "outputs": [],
   "source": [
    "#conecta ao SGBD MySQL -> Banco de dados bootcamp\n",
    "con <- dbConnect(MariaDB(), user = \"root\", password = \"igti\", \n",
    "                dbname =\"bootcamp\", host = \"localhost\", serverTimezone = 'UTC')"
   ]
  },
  {
   "cell_type": "code",
   "execution_count": 22,
   "metadata": {
    "scrolled": false
   },
   "outputs": [
    {
     "data": {
      "text/html": [
       "<table>\n",
       "<thead><tr><th scope=col>CodEstadoIBGE</th><th scope=col>NomeEstado</th><th scope=col>SiglaEstado</th><th scope=col>Regiao</th></tr></thead>\n",
       "<tbody>\n",
       "\t<tr><td>11                 </td><td>Rondónia           </td><td>RO                 </td><td>Norte              </td></tr>\n",
       "\t<tr><td>12                 </td><td>Acre               </td><td>AC                 </td><td>Norte              </td></tr>\n",
       "\t<tr><td>13                 </td><td>Amazonas           </td><td>AM                 </td><td>Norte              </td></tr>\n",
       "\t<tr><td>14                 </td><td>Roraima            </td><td>R                  </td><td>Norte              </td></tr>\n",
       "\t<tr><td>15                 </td><td>Pará               </td><td>PA                 </td><td>Norte              </td></tr>\n",
       "\t<tr><td>16                 </td><td>Amapá              </td><td>AP                 </td><td>Norte              </td></tr>\n",
       "\t<tr><td>17                 </td><td>Tocantins          </td><td>TO                 </td><td>Norte              </td></tr>\n",
       "\t<tr><td>21                 </td><td>Maranhão           </td><td>MA                 </td><td>Nordeste           </td></tr>\n",
       "\t<tr><td>22                 </td><td>Piauí              </td><td>PI                 </td><td>Nordeste           </td></tr>\n",
       "\t<tr><td>23                 </td><td>Ceará              </td><td>CE                 </td><td>Nordeste           </td></tr>\n",
       "\t<tr><td>24                 </td><td>Rio Grande do Norte</td><td>RN                 </td><td>Nordeste           </td></tr>\n",
       "\t<tr><td>25                 </td><td>Paraíba            </td><td>PB                 </td><td>Nordeste           </td></tr>\n",
       "\t<tr><td>26                 </td><td>Pernambuco         </td><td>PE                 </td><td>Nordeste           </td></tr>\n",
       "\t<tr><td>27                 </td><td>Alagoas            </td><td>AL                 </td><td>Nordeste           </td></tr>\n",
       "\t<tr><td>28                 </td><td>Sergipe            </td><td>SE                 </td><td>Nordeste           </td></tr>\n",
       "\t<tr><td>29                 </td><td>Bahia              </td><td>BA                 </td><td>Nordeste           </td></tr>\n",
       "\t<tr><td>31                 </td><td>Minas Gerais       </td><td>MG                 </td><td>Sudeste            </td></tr>\n",
       "\t<tr><td>32                 </td><td>Espírito Santo     </td><td>ES                 </td><td>Sudeste            </td></tr>\n",
       "\t<tr><td>33                 </td><td>Rio de Janeiro     </td><td>RJ                 </td><td>Sudeste            </td></tr>\n",
       "\t<tr><td>35                 </td><td>São Paulo          </td><td>SP                 </td><td>Sudeste            </td></tr>\n",
       "\t<tr><td>41                 </td><td>Paraná             </td><td>PR                 </td><td>Sul                </td></tr>\n",
       "\t<tr><td>42                 </td><td>Santa Catarina     </td><td>SC                 </td><td>Sul                </td></tr>\n",
       "\t<tr><td>43                 </td><td>Rio Grande do Sul  </td><td>RS                 </td><td>Sul                </td></tr>\n",
       "\t<tr><td>50                 </td><td>Mato Grosso do Sul </td><td>MS                 </td><td>Centro-Oeste       </td></tr>\n",
       "\t<tr><td>51                 </td><td>Mato Grosso        </td><td>MT                 </td><td>Centro-Oeste       </td></tr>\n",
       "\t<tr><td>52                 </td><td>Goiás              </td><td>GO                 </td><td>Centro-Oeste       </td></tr>\n",
       "\t<tr><td>53                 </td><td>Distrito Federal   </td><td>DF                 </td><td>Centro-Oeste       </td></tr>\n",
       "</tbody>\n",
       "</table>\n"
      ],
      "text/latex": [
       "\\begin{tabular}{r|llll}\n",
       " CodEstadoIBGE & NomeEstado & SiglaEstado & Regiao\\\\\n",
       "\\hline\n",
       "\t 11                  & Rondónia            & RO                  & Norte              \\\\\n",
       "\t 12                  & Acre                & AC                  & Norte              \\\\\n",
       "\t 13                  & Amazonas            & AM                  & Norte              \\\\\n",
       "\t 14                  & Roraima             & R                   & Norte              \\\\\n",
       "\t 15                  & Pará                & PA                  & Norte              \\\\\n",
       "\t 16                  & Amapá               & AP                  & Norte              \\\\\n",
       "\t 17                  & Tocantins           & TO                  & Norte              \\\\\n",
       "\t 21                  & Maranhão            & MA                  & Nordeste           \\\\\n",
       "\t 22                  & Piauí               & PI                  & Nordeste           \\\\\n",
       "\t 23                  & Ceará               & CE                  & Nordeste           \\\\\n",
       "\t 24                  & Rio Grande do Norte & RN                  & Nordeste           \\\\\n",
       "\t 25                  & Paraíba             & PB                  & Nordeste           \\\\\n",
       "\t 26                  & Pernambuco          & PE                  & Nordeste           \\\\\n",
       "\t 27                  & Alagoas             & AL                  & Nordeste           \\\\\n",
       "\t 28                  & Sergipe             & SE                  & Nordeste           \\\\\n",
       "\t 29                  & Bahia               & BA                  & Nordeste           \\\\\n",
       "\t 31                  & Minas Gerais        & MG                  & Sudeste            \\\\\n",
       "\t 32                  & Espírito Santo      & ES                  & Sudeste            \\\\\n",
       "\t 33                  & Rio de Janeiro      & RJ                  & Sudeste            \\\\\n",
       "\t 35                  & São Paulo           & SP                  & Sudeste            \\\\\n",
       "\t 41                  & Paraná              & PR                  & Sul                \\\\\n",
       "\t 42                  & Santa Catarina      & SC                  & Sul                \\\\\n",
       "\t 43                  & Rio Grande do Sul   & RS                  & Sul                \\\\\n",
       "\t 50                  & Mato Grosso do Sul  & MS                  & Centro-Oeste       \\\\\n",
       "\t 51                  & Mato Grosso         & MT                  & Centro-Oeste       \\\\\n",
       "\t 52                  & Goiás               & GO                  & Centro-Oeste       \\\\\n",
       "\t 53                  & Distrito Federal    & DF                  & Centro-Oeste       \\\\\n",
       "\\end{tabular}\n"
      ],
      "text/markdown": [
       "\n",
       "| CodEstadoIBGE | NomeEstado | SiglaEstado | Regiao |\n",
       "|---|---|---|---|\n",
       "| 11                  | Rondónia            | RO                  | Norte               |\n",
       "| 12                  | Acre                | AC                  | Norte               |\n",
       "| 13                  | Amazonas            | AM                  | Norte               |\n",
       "| 14                  | Roraima             | R                   | Norte               |\n",
       "| 15                  | Pará                | PA                  | Norte               |\n",
       "| 16                  | Amapá               | AP                  | Norte               |\n",
       "| 17                  | Tocantins           | TO                  | Norte               |\n",
       "| 21                  | Maranhão            | MA                  | Nordeste            |\n",
       "| 22                  | Piauí               | PI                  | Nordeste            |\n",
       "| 23                  | Ceará               | CE                  | Nordeste            |\n",
       "| 24                  | Rio Grande do Norte | RN                  | Nordeste            |\n",
       "| 25                  | Paraíba             | PB                  | Nordeste            |\n",
       "| 26                  | Pernambuco          | PE                  | Nordeste            |\n",
       "| 27                  | Alagoas             | AL                  | Nordeste            |\n",
       "| 28                  | Sergipe             | SE                  | Nordeste            |\n",
       "| 29                  | Bahia               | BA                  | Nordeste            |\n",
       "| 31                  | Minas Gerais        | MG                  | Sudeste             |\n",
       "| 32                  | Espírito Santo      | ES                  | Sudeste             |\n",
       "| 33                  | Rio de Janeiro      | RJ                  | Sudeste             |\n",
       "| 35                  | São Paulo           | SP                  | Sudeste             |\n",
       "| 41                  | Paraná              | PR                  | Sul                 |\n",
       "| 42                  | Santa Catarina      | SC                  | Sul                 |\n",
       "| 43                  | Rio Grande do Sul   | RS                  | Sul                 |\n",
       "| 50                  | Mato Grosso do Sul  | MS                  | Centro-Oeste        |\n",
       "| 51                  | Mato Grosso         | MT                  | Centro-Oeste        |\n",
       "| 52                  | Goiás               | GO                  | Centro-Oeste        |\n",
       "| 53                  | Distrito Federal    | DF                  | Centro-Oeste        |\n",
       "\n"
      ],
      "text/plain": [
       "   CodEstadoIBGE NomeEstado          SiglaEstado Regiao      \n",
       "1  11            Rondónia            RO          Norte       \n",
       "2  12            Acre                AC          Norte       \n",
       "3  13            Amazonas            AM          Norte       \n",
       "4  14            Roraima             R           Norte       \n",
       "5  15            Pará                PA          Norte       \n",
       "6  16            Amapá               AP          Norte       \n",
       "7  17            Tocantins           TO          Norte       \n",
       "8  21            Maranhão            MA          Nordeste    \n",
       "9  22            Piauí               PI          Nordeste    \n",
       "10 23            Ceará               CE          Nordeste    \n",
       "11 24            Rio Grande do Norte RN          Nordeste    \n",
       "12 25            Paraíba             PB          Nordeste    \n",
       "13 26            Pernambuco          PE          Nordeste    \n",
       "14 27            Alagoas             AL          Nordeste    \n",
       "15 28            Sergipe             SE          Nordeste    \n",
       "16 29            Bahia               BA          Nordeste    \n",
       "17 31            Minas Gerais        MG          Sudeste     \n",
       "18 32            Espírito Santo      ES          Sudeste     \n",
       "19 33            Rio de Janeiro      RJ          Sudeste     \n",
       "20 35            São Paulo           SP          Sudeste     \n",
       "21 41            Paraná              PR          Sul         \n",
       "22 42            Santa Catarina      SC          Sul         \n",
       "23 43            Rio Grande do Sul   RS          Sul         \n",
       "24 50            Mato Grosso do Sul  MS          Centro-Oeste\n",
       "25 51            Mato Grosso         MT          Centro-Oeste\n",
       "26 52            Goiás               GO          Centro-Oeste\n",
       "27 53            Distrito Federal    DF          Centro-Oeste"
      ]
     },
     "metadata": {},
     "output_type": "display_data"
    }
   ],
   "source": [
    "#para listar quais tabelas os dados de uma tabela execute:\n",
    "# dbReadTable(nome-da-conexao, \"nome da tabela\")\n",
    "#consulta dados da tabela \"estado\"\n",
    "tabledata <- dbReadTable(con,\"estado\")\n",
    "tabledata"
   ]
  },
  {
   "cell_type": "code",
   "execution_count": 4,
   "metadata": {},
   "outputs": [
    {
     "data": {
      "text/html": [
       "<table>\n",
       "<thead><tr><th scope=col>CodigoCompletoIBGE</th><th scope=col>CodigoCidadeIBGE</th><th scope=col>NomeCidade</th><th scope=col>CodEstadoIBGE</th></tr></thead>\n",
       "<tbody>\n",
       "</tbody>\n",
       "</table>\n"
      ],
      "text/latex": [
       "\\begin{tabular}{r|llll}\n",
       " CodigoCompletoIBGE & CodigoCidadeIBGE & NomeCidade & CodEstadoIBGE\\\\\n",
       "\\hline\n",
       "\\end{tabular}\n"
      ],
      "text/markdown": [
       "\n",
       "| CodigoCompletoIBGE | CodigoCidadeIBGE | NomeCidade | CodEstadoIBGE |\n",
       "|---|---|---|---|\n",
       "\n"
      ],
      "text/plain": [
       "     CodigoCompletoIBGE CodigoCidadeIBGE NomeCidade CodEstadoIBGE"
      ]
     },
     "metadata": {},
     "output_type": "display_data"
    }
   ],
   "source": [
    "tabledata <- dbReadTable(con,\"cidade\")\n",
    "tabledata"
   ]
  },
  {
   "cell_type": "code",
   "execution_count": 9,
   "metadata": {},
   "outputs": [
    {
     "data": {
      "text/html": [
       "<table>\n",
       "<thead><tr><th scope=col>idImovel</th><th scope=col>codRegistro</th><th scope=col>Disponibilidade</th><th scope=col>idTipoUnidade</th><th scope=col>areaImovel</th><th scope=col>valorIPTU</th><th scope=col>valorCondominio</th><th scope=col>qtdeQuartos</th><th scope=col>qtdeBanheiro</th><th scope=col>qtdeSuite</th><th scope=col>qtdeSala</th><th scope=col>qtdeVagas</th><th scope=col>CodigoCompletoIBGE</th></tr></thead>\n",
       "<tbody>\n",
       "</tbody>\n",
       "</table>\n"
      ],
      "text/latex": [
       "\\begin{tabular}{r|lllllllllllll}\n",
       " idImovel & codRegistro & Disponibilidade & idTipoUnidade & areaImovel & valorIPTU & valorCondominio & qtdeQuartos & qtdeBanheiro & qtdeSuite & qtdeSala & qtdeVagas & CodigoCompletoIBGE\\\\\n",
       "\\hline\n",
       "\\end{tabular}\n"
      ],
      "text/markdown": [
       "\n",
       "| idImovel | codRegistro | Disponibilidade | idTipoUnidade | areaImovel | valorIPTU | valorCondominio | qtdeQuartos | qtdeBanheiro | qtdeSuite | qtdeSala | qtdeVagas | CodigoCompletoIBGE |\n",
       "|---|---|---|---|---|---|---|---|---|---|---|---|---|\n",
       "\n"
      ],
      "text/plain": [
       "     idImovel codRegistro Disponibilidade idTipoUnidade areaImovel valorIPTU\n",
       "     valorCondominio qtdeQuartos qtdeBanheiro qtdeSuite qtdeSala qtdeVagas\n",
       "     CodigoCompletoIBGE"
      ]
     },
     "metadata": {},
     "output_type": "display_data"
    }
   ],
   "source": [
    "tabledata <- dbReadTable(con,\"imovel\")\n",
    "tabledata"
   ]
  },
  {
   "cell_type": "code",
   "execution_count": 14,
   "metadata": {},
   "outputs": [
    {
     "data": {
      "text/html": [
       "<table>\n",
       "<thead><tr><th scope=col>idTipoUnidade</th><th scope=col>dscTipoUnidade</th></tr></thead>\n",
       "<tbody>\n",
       "\t<tr><td>1                         </td><td>Casa                      </td></tr>\n",
       "\t<tr><td>2                         </td><td>Casa geminada             </td></tr>\n",
       "\t<tr><td>3                         </td><td>Apartamento tipo          </td></tr>\n",
       "\t<tr><td>4                         </td><td>Apartamento cobertura     </td></tr>\n",
       "\t<tr><td>5                         </td><td>Apartamento área privativa</td></tr>\n",
       "\t<tr><td>6                         </td><td>Flat                      </td></tr>\n",
       "\t<tr><td>7                         </td><td>lOFT                      </td></tr>\n",
       "\t<tr><td>8                         </td><td>Chácara                   </td></tr>\n",
       "</tbody>\n",
       "</table>\n"
      ],
      "text/latex": [
       "\\begin{tabular}{r|ll}\n",
       " idTipoUnidade & dscTipoUnidade\\\\\n",
       "\\hline\n",
       "\t 1                          & Casa                      \\\\\n",
       "\t 2                          & Casa geminada             \\\\\n",
       "\t 3                          & Apartamento tipo          \\\\\n",
       "\t 4                          & Apartamento cobertura     \\\\\n",
       "\t 5                          & Apartamento área privativa\\\\\n",
       "\t 6                          & Flat                      \\\\\n",
       "\t 7                          & lOFT                      \\\\\n",
       "\t 8                          & Chácara                   \\\\\n",
       "\\end{tabular}\n"
      ],
      "text/markdown": [
       "\n",
       "| idTipoUnidade | dscTipoUnidade |\n",
       "|---|---|\n",
       "| 1                          | Casa                       |\n",
       "| 2                          | Casa geminada              |\n",
       "| 3                          | Apartamento tipo           |\n",
       "| 4                          | Apartamento cobertura      |\n",
       "| 5                          | Apartamento área privativa |\n",
       "| 6                          | Flat                       |\n",
       "| 7                          | lOFT                       |\n",
       "| 8                          | Chácara                    |\n",
       "\n"
      ],
      "text/plain": [
       "  idTipoUnidade dscTipoUnidade            \n",
       "1 1             Casa                      \n",
       "2 2             Casa geminada             \n",
       "3 3             Apartamento tipo          \n",
       "4 4             Apartamento cobertura     \n",
       "5 5             Apartamento área privativa\n",
       "6 6             Flat                      \n",
       "7 7             lOFT                      \n",
       "8 8             Chácara                   "
      ]
     },
     "metadata": {},
     "output_type": "display_data"
    }
   ],
   "source": [
    "tabledata <- dbReadTable(con,\"tipounidade\")\n",
    "tabledata"
   ]
  },
  {
   "cell_type": "code",
   "execution_count": 7,
   "metadata": {},
   "outputs": [
    {
     "name": "stdout",
     "output_type": "stream",
     "text": [
      "[1] \"INSERT INTO tipounidade(idTipoUnidade, dscTipoUnidade) VALUES(7, 'lOFT');\"\n"
     ]
    },
    {
     "data": {
      "text/plain": [
       "<MariaDBResult>\n",
       "  SQL  INSERT INTO tipounidade(idTipoUnidade, dscTipoUnidade) VALUES(7, 'lOFT');\n",
       "  ROWS Fetched: 0 [complete]\n",
       "       Changed: 1"
      ]
     },
     "metadata": {},
     "output_type": "display_data"
    }
   ],
   "source": [
    "#para executar o comando SQL execute\n",
    "#dbSendQuery(nome-da-tabela, \"comando\")\n",
    "\n",
    "#inserir nova linha na tabela tipounidade\n",
    "#cria o comando e salva na variavel query\n",
    "query <- \"INSERT INTO tipounidade(idTipoUnidade, dscTipoUnidade) VALUES(7, 'lOFT');\"\n",
    "\n",
    "#OPTIONAL\n",
    "print(query)\n",
    "\n",
    "results <- dbSendQuery(con, query)\n",
    "results\n",
    "\n",
    "#Limoa results\n",
    "dbClearResult(results)"
   ]
  },
  {
   "cell_type": "code",
   "execution_count": 12,
   "metadata": {},
   "outputs": [
    {
     "name": "stdout",
     "output_type": "stream",
     "text": [
      "[1] \"INSERT INTO tipounidade(idTipoUnidade, dscTipoUnidade)VALUES(8,'Chácara');\"\n"
     ]
    },
    {
     "data": {
      "text/plain": [
       "<MariaDBResult>\n",
       "  SQL  INSERT INTO tipounidade(idTipoUnidade, dscTipoUnidade)VALUES(8,'Chácara');\n",
       "  ROWS Fetched: 0 [complete]\n",
       "       Changed: 1"
      ]
     },
     "metadata": {},
     "output_type": "display_data"
    }
   ],
   "source": [
    "id <- 8\n",
    "desc <- 'Chácara'\n",
    "\n",
    "query <- paste(\"INSERT INTO tipounidade(idTipoUnidade, dscTipoUnidade)VALUES(\",id,\",'\",desc,\"');\", sep='')\n",
    "\n",
    "#OPTIONAL\n",
    "print(query)\n",
    "\n",
    "results <- dbSendQuery(con, query)\n",
    "results\n",
    "\n",
    "#Limoa results\n",
    "dbClearResult(results)"
   ]
  },
  {
   "cell_type": "code",
   "execution_count": 15,
   "metadata": {},
   "outputs": [
    {
     "name": "stderr",
     "output_type": "stream",
     "text": [
      "also installing the dependencies 'rJava', 'xlsxjars'\n",
      "\n"
     ]
    },
    {
     "name": "stdout",
     "output_type": "stream",
     "text": [
      "\n",
      "  There is a binary version available but the source version is later:\n",
      "      binary source needs_compilation\n",
      "rJava 0.9-12 0.9-13              TRUE\n",
      "\n",
      "  Binaries will be installed\n",
      "package 'rJava' successfully unpacked and MD5 sums checked\n",
      "package 'xlsxjars' successfully unpacked and MD5 sums checked\n",
      "package 'xlsx' successfully unpacked and MD5 sums checked\n",
      "\n",
      "The downloaded binary packages are in\n",
      "\tC:\\Users\\Alberto Pinalli\\AppData\\Local\\Temp\\RtmpOwLHAo\\downloaded_packages\n"
     ]
    }
   ],
   "source": [
    "#install.packages('xlsx')"
   ]
  },
  {
   "cell_type": "code",
   "execution_count": 8,
   "metadata": {},
   "outputs": [
    {
     "data": {
      "text/html": [
       "<table>\n",
       "<thead><tr><th scope=col>CodEstadoIBGE</th><th scope=col>nomeestado</th><th scope=col>siglaestado</th><th scope=col>regiao</th></tr></thead>\n",
       "<tbody>\n",
       "\t<tr><td>11                 </td><td>Rondónia           </td><td>RO                 </td><td>Norte              </td></tr>\n",
       "\t<tr><td>12                 </td><td>Acre               </td><td>AC                 </td><td>Norte              </td></tr>\n",
       "\t<tr><td>13                 </td><td>Amazonas           </td><td>AM                 </td><td>Norte              </td></tr>\n",
       "\t<tr><td>14                 </td><td>Roraima            </td><td>R                  </td><td>Norte              </td></tr>\n",
       "\t<tr><td>15                 </td><td>Pará               </td><td>PA                 </td><td>Norte              </td></tr>\n",
       "\t<tr><td>16                 </td><td>Amapá              </td><td>AP                 </td><td>Norte              </td></tr>\n",
       "\t<tr><td>17                 </td><td>Tocantins          </td><td>TO                 </td><td>Norte              </td></tr>\n",
       "\t<tr><td>21                 </td><td>Maranhão           </td><td>MA                 </td><td>Nordeste           </td></tr>\n",
       "\t<tr><td>22                 </td><td>Piauí              </td><td>PI                 </td><td>Nordeste           </td></tr>\n",
       "\t<tr><td>23                 </td><td>Ceará              </td><td>CE                 </td><td>Nordeste           </td></tr>\n",
       "\t<tr><td>24                 </td><td>Rio Grande do Norte</td><td>RN                 </td><td>Nordeste           </td></tr>\n",
       "\t<tr><td>25                 </td><td>Paraíba            </td><td>PB                 </td><td>Nordeste           </td></tr>\n",
       "\t<tr><td>26                 </td><td>Pernambuco         </td><td>PE                 </td><td>Nordeste           </td></tr>\n",
       "\t<tr><td>27                 </td><td>Alagoas            </td><td>AL                 </td><td>Nordeste           </td></tr>\n",
       "\t<tr><td>28                 </td><td>Sergipe            </td><td>SE                 </td><td>Nordeste           </td></tr>\n",
       "\t<tr><td>29                 </td><td>Bahia              </td><td>BA                 </td><td>Nordeste           </td></tr>\n",
       "\t<tr><td>31                 </td><td>Minas Gerais       </td><td>MG                 </td><td>Sudeste            </td></tr>\n",
       "\t<tr><td>32                 </td><td>Espírito Santo     </td><td>ES                 </td><td>Sudeste            </td></tr>\n",
       "\t<tr><td>33                 </td><td>Rio de Janeiro     </td><td>RJ                 </td><td>Sudeste            </td></tr>\n",
       "\t<tr><td>35                 </td><td>São Paulo          </td><td>SP                 </td><td>Sudeste            </td></tr>\n",
       "\t<tr><td>41                 </td><td>Paraná             </td><td>PR                 </td><td>Sul                </td></tr>\n",
       "\t<tr><td>42                 </td><td>Santa Catarina     </td><td>SC                 </td><td>Sul                </td></tr>\n",
       "\t<tr><td>43                 </td><td>Rio Grande do Sul  </td><td>RS                 </td><td>Sul                </td></tr>\n",
       "\t<tr><td>50                 </td><td>Mato Grosso do Sul </td><td>MS                 </td><td>Centro-Oeste       </td></tr>\n",
       "\t<tr><td>51                 </td><td>Mato Grosso        </td><td>MT                 </td><td>Centro-Oeste       </td></tr>\n",
       "\t<tr><td>52                 </td><td>Goiás              </td><td>GO                 </td><td>Centro-Oeste       </td></tr>\n",
       "\t<tr><td>53                 </td><td>Distrito Federal   </td><td>DF                 </td><td>Centro-Oeste       </td></tr>\n",
       "</tbody>\n",
       "</table>\n"
      ],
      "text/latex": [
       "\\begin{tabular}{r|llll}\n",
       " CodEstadoIBGE & nomeestado & siglaestado & regiao\\\\\n",
       "\\hline\n",
       "\t 11                  & Rondónia            & RO                  & Norte              \\\\\n",
       "\t 12                  & Acre                & AC                  & Norte              \\\\\n",
       "\t 13                  & Amazonas            & AM                  & Norte              \\\\\n",
       "\t 14                  & Roraima             & R                   & Norte              \\\\\n",
       "\t 15                  & Pará                & PA                  & Norte              \\\\\n",
       "\t 16                  & Amapá               & AP                  & Norte              \\\\\n",
       "\t 17                  & Tocantins           & TO                  & Norte              \\\\\n",
       "\t 21                  & Maranhão            & MA                  & Nordeste           \\\\\n",
       "\t 22                  & Piauí               & PI                  & Nordeste           \\\\\n",
       "\t 23                  & Ceará               & CE                  & Nordeste           \\\\\n",
       "\t 24                  & Rio Grande do Norte & RN                  & Nordeste           \\\\\n",
       "\t 25                  & Paraíba             & PB                  & Nordeste           \\\\\n",
       "\t 26                  & Pernambuco          & PE                  & Nordeste           \\\\\n",
       "\t 27                  & Alagoas             & AL                  & Nordeste           \\\\\n",
       "\t 28                  & Sergipe             & SE                  & Nordeste           \\\\\n",
       "\t 29                  & Bahia               & BA                  & Nordeste           \\\\\n",
       "\t 31                  & Minas Gerais        & MG                  & Sudeste            \\\\\n",
       "\t 32                  & Espírito Santo      & ES                  & Sudeste            \\\\\n",
       "\t 33                  & Rio de Janeiro      & RJ                  & Sudeste            \\\\\n",
       "\t 35                  & São Paulo           & SP                  & Sudeste            \\\\\n",
       "\t 41                  & Paraná              & PR                  & Sul                \\\\\n",
       "\t 42                  & Santa Catarina      & SC                  & Sul                \\\\\n",
       "\t 43                  & Rio Grande do Sul   & RS                  & Sul                \\\\\n",
       "\t 50                  & Mato Grosso do Sul  & MS                  & Centro-Oeste       \\\\\n",
       "\t 51                  & Mato Grosso         & MT                  & Centro-Oeste       \\\\\n",
       "\t 52                  & Goiás               & GO                  & Centro-Oeste       \\\\\n",
       "\t 53                  & Distrito Federal    & DF                  & Centro-Oeste       \\\\\n",
       "\\end{tabular}\n"
      ],
      "text/markdown": [
       "\n",
       "| CodEstadoIBGE | nomeestado | siglaestado | regiao |\n",
       "|---|---|---|---|\n",
       "| 11                  | Rondónia            | RO                  | Norte               |\n",
       "| 12                  | Acre                | AC                  | Norte               |\n",
       "| 13                  | Amazonas            | AM                  | Norte               |\n",
       "| 14                  | Roraima             | R                   | Norte               |\n",
       "| 15                  | Pará                | PA                  | Norte               |\n",
       "| 16                  | Amapá               | AP                  | Norte               |\n",
       "| 17                  | Tocantins           | TO                  | Norte               |\n",
       "| 21                  | Maranhão            | MA                  | Nordeste            |\n",
       "| 22                  | Piauí               | PI                  | Nordeste            |\n",
       "| 23                  | Ceará               | CE                  | Nordeste            |\n",
       "| 24                  | Rio Grande do Norte | RN                  | Nordeste            |\n",
       "| 25                  | Paraíba             | PB                  | Nordeste            |\n",
       "| 26                  | Pernambuco          | PE                  | Nordeste            |\n",
       "| 27                  | Alagoas             | AL                  | Nordeste            |\n",
       "| 28                  | Sergipe             | SE                  | Nordeste            |\n",
       "| 29                  | Bahia               | BA                  | Nordeste            |\n",
       "| 31                  | Minas Gerais        | MG                  | Sudeste             |\n",
       "| 32                  | Espírito Santo      | ES                  | Sudeste             |\n",
       "| 33                  | Rio de Janeiro      | RJ                  | Sudeste             |\n",
       "| 35                  | São Paulo           | SP                  | Sudeste             |\n",
       "| 41                  | Paraná              | PR                  | Sul                 |\n",
       "| 42                  | Santa Catarina      | SC                  | Sul                 |\n",
       "| 43                  | Rio Grande do Sul   | RS                  | Sul                 |\n",
       "| 50                  | Mato Grosso do Sul  | MS                  | Centro-Oeste        |\n",
       "| 51                  | Mato Grosso         | MT                  | Centro-Oeste        |\n",
       "| 52                  | Goiás               | GO                  | Centro-Oeste        |\n",
       "| 53                  | Distrito Federal    | DF                  | Centro-Oeste        |\n",
       "\n"
      ],
      "text/plain": [
       "   CodEstadoIBGE nomeestado          siglaestado regiao      \n",
       "1  11            Rondónia            RO          Norte       \n",
       "2  12            Acre                AC          Norte       \n",
       "3  13            Amazonas            AM          Norte       \n",
       "4  14            Roraima             R           Norte       \n",
       "5  15            Pará                PA          Norte       \n",
       "6  16            Amapá               AP          Norte       \n",
       "7  17            Tocantins           TO          Norte       \n",
       "8  21            Maranhão            MA          Nordeste    \n",
       "9  22            Piauí               PI          Nordeste    \n",
       "10 23            Ceará               CE          Nordeste    \n",
       "11 24            Rio Grande do Norte RN          Nordeste    \n",
       "12 25            Paraíba             PB          Nordeste    \n",
       "13 26            Pernambuco          PE          Nordeste    \n",
       "14 27            Alagoas             AL          Nordeste    \n",
       "15 28            Sergipe             SE          Nordeste    \n",
       "16 29            Bahia               BA          Nordeste    \n",
       "17 31            Minas Gerais        MG          Sudeste     \n",
       "18 32            Espírito Santo      ES          Sudeste     \n",
       "19 33            Rio de Janeiro      RJ          Sudeste     \n",
       "20 35            São Paulo           SP          Sudeste     \n",
       "21 41            Paraná              PR          Sul         \n",
       "22 42            Santa Catarina      SC          Sul         \n",
       "23 43            Rio Grande do Sul   RS          Sul         \n",
       "24 50            Mato Grosso do Sul  MS          Centro-Oeste\n",
       "25 51            Mato Grosso         MT          Centro-Oeste\n",
       "26 52            Goiás               GO          Centro-Oeste\n",
       "27 53            Distrito Federal    DF          Centro-Oeste"
      ]
     },
     "metadata": {},
     "output_type": "display_data"
    }
   ],
   "source": [
    "#importa pacaote xlsx se ele não foi instalado\n",
    "if(!\"xlsx\" %in% (.packages())){require(xlsx)}\n",
    "\n",
    "datasetpath <- 'C:/Users/Alberto Pinalli/Documents/GitHub/CientistaDeDados-IGTI/Bootcamp/arquivos'\n",
    "\n",
    "filename <- paste(datasetpath,\"/estados.xlsx\", sep='')\n",
    "\n",
    "insertdata <- read.xlsx(filename, sheetIndex=1, header=TRUE, encoding=\"UTF-8\")\n",
    "insertdata\n",
    "#sampleGardenData"
   ]
  },
  {
   "cell_type": "code",
   "execution_count": 21,
   "metadata": {},
   "outputs": [],
   "source": [
    "dbWriteTable(con, 'estado',insertdata,append = TRUE)"
   ]
  },
  {
   "cell_type": "code",
   "execution_count": 3,
   "metadata": {},
   "outputs": [
    {
     "ename": "ERROR",
     "evalue": "Error in dbSendQuery(con, query): não foi possível encontrar a função \"dbSendQuery\"\n",
     "output_type": "error",
     "traceback": [
      "Error in dbSendQuery(con, query): não foi possível encontrar a função \"dbSendQuery\"\nTraceback:\n"
     ]
    }
   ],
   "source": [
    "#criar tabela vazia\n",
    "#query <- \"CREATE TABLE caracteristicasgerais (\n",
    " #               idcaracteristicasGerais int NOT NULL AUTO_INCREMENT,\n",
    "  #              dsccaracteristicasGerais varchar(150)NOT NULL,\n",
    " #               PRIMARY KEY (idcaracteristicasGerais));\"\n",
    "\n",
    "#results <- dbSendQuery(con,query)\n",
    "#results\n",
    "\n",
    "#tables <- dbListTables(con)\n",
    "#tables\n"
   ]
  },
  {
   "cell_type": "code",
   "execution_count": 9,
   "metadata": {
    "scrolled": true
   },
   "outputs": [
    {
     "ename": "ERROR",
     "evalue": "Error in dbGetQuery(com, query): não foi possível encontrar a função \"dbGetQuery\"\n",
     "output_type": "error",
     "traceback": [
      "Error in dbGetQuery(com, query): não foi possível encontrar a função \"dbGetQuery\"\nTraceback:\n"
     ]
    }
   ],
   "source": [
    "query <- \"SELECT * FROM estado;\"\n",
    "\n",
    "#opcional\n",
    "#print(query)\n",
    "\n",
    "results <- dbGetQuery(com,query)\n",
    "results"
   ]
  },
  {
   "cell_type": "code",
   "execution_count": 10,
   "metadata": {},
   "outputs": [
    {
     "ename": "ERROR",
     "evalue": "Error in is.data.frame(x): objeto 'results' não encontrado\n",
     "output_type": "error",
     "traceback": [
      "Error in is.data.frame(x): objeto 'results' não encontrado\nTraceback:\n",
      "1. write.csv(results, \"C:/Users/Alberto Pinalli/Documents/GitHub/CientistaDeDados-IGTI/Bootcamp/arquivos/estadosDB.csv\", \n .     row.names = FALSE, quote = FALSE)",
      "2. eval.parent(Call)",
      "3. eval(expr, p)",
      "4. eval(expr, p)",
      "5. write.table(results, \"C:/Users/Alberto Pinalli/Documents/GitHub/CientistaDeDados-IGTI/Bootcamp/arquivos/estadosDB.csv\", \n .     row.names = FALSE, quote = FALSE, col.names = TRUE, sep = \",\", \n .     dec = \".\", qmethod = \"double\")",
      "6. is.data.frame(x)"
     ]
    }
   ],
   "source": [
    "#salvar o resultado da query no arquivo csv\n",
    "write.csv(results, \"C:/Users/Alberto Pinalli/Documents/GitHub/CientistaDeDados-IGTI/Bootcamp/arquivos/estadosDB.csv\",row.names=FALSE,quote=FALSE)\n",
    "#dbCommit(con)"
   ]
  },
  {
   "cell_type": "code",
   "execution_count": 12,
   "metadata": {},
   "outputs": [
    {
     "ename": "ERROR",
     "evalue": "Error in dbDisconnect(con): não foi possível encontrar a função \"dbDisconnect\"\n",
     "output_type": "error",
     "traceback": [
      "Error in dbDisconnect(con): não foi possível encontrar a função \"dbDisconnect\"\nTraceback:\n"
     ]
    }
   ],
   "source": [
    "# Desconectar do banco\n",
    "dbDisconnect(con)"
   ]
  },
  {
   "cell_type": "code",
   "execution_count": null,
   "metadata": {},
   "outputs": [],
   "source": [
    "query <- \"INSERT INTO tipounidade(idTipoUnidade, dscTipoUnidade) VALUES(9, 'Kitnet');\"\n",
    "\n",
    "#OPTIONAL\n",
    "print(query)\n",
    "\n",
    "results <- dbSendQuery(con, query)\n",
    "results\n",
    "\n",
    "#Limoa results\n",
    "dbClearResult(results)"
   ]
  },
  {
   "cell_type": "code",
   "execution_count": null,
   "metadata": {},
   "outputs": [],
   "source": []
  }
 ],
 "metadata": {
  "kernelspec": {
   "display_name": "R",
   "language": "R",
   "name": "ir"
  },
  "language_info": {
   "codemirror_mode": "r",
   "file_extension": ".r",
   "mimetype": "text/x-r-source",
   "name": "R",
   "pygments_lexer": "r",
   "version": "3.6.1"
  }
 },
 "nbformat": 4,
 "nbformat_minor": 4
}
